{
  "nbformat": 4,
  "nbformat_minor": 0,
  "metadata": {
    "colab": {
      "name": "02.Cifa100_model_colab.ipynb",
      "provenance": [],
      "authorship_tag": "ABX9TyM7EPCHEzM7AOGmtRW4k6pS",
      "include_colab_link": true
    },
    "kernelspec": {
      "name": "python3",
      "display_name": "Python 3"
    },
    "accelerator": "GPU"
  },
  "cells": [
    {
      "cell_type": "markdown",
      "metadata": {
        "id": "view-in-github",
        "colab_type": "text"
      },
      "source": [
        "<a href=\"https://colab.research.google.com/github/dain1403/Deep-Learning-with-Colab/blob/master/02_Cifa100_model_colab.ipynb\" target=\"_parent\"><img src=\"https://colab.research.google.com/assets/colab-badge.svg\" alt=\"Open In Colab\"/></a>"
      ]
    },
    {
      "cell_type": "markdown",
      "metadata": {
        "id": "YUEYKG2VqBbk",
        "colab_type": "text"
      },
      "source": [
        "Cifar-100"
      ]
    },
    {
      "cell_type": "code",
      "metadata": {
        "id": "cbcWMjnMw-lB",
        "colab_type": "code",
        "colab": {
          "base_uri": "https://localhost:8080/",
          "height": 35
        },
        "outputId": "2f988797-c840-4eb7-8fb5-9072e686477b"
      },
      "source": [
        "!mkdir model"
      ],
      "execution_count": 49,
      "outputs": [
        {
          "output_type": "stream",
          "text": [
            "mkdir: cannot create directory ‘model’: File exists\n"
          ],
          "name": "stdout"
        }
      ]
    },
    {
      "cell_type": "code",
      "metadata": {
        "id": "AX4_MBdAxEWi",
        "colab_type": "code",
        "colab": {
          "base_uri": "https://localhost:8080/",
          "height": 71
        },
        "outputId": "6f20ab36-0365-4ce7-9521-56d77dbe4cd6"
      },
      "source": [
        "!ls -l"
      ],
      "execution_count": 50,
      "outputs": [
        {
          "output_type": "stream",
          "text": [
            "total 8\n",
            "drwxr-xr-x 2 root root 4096 Jul  7 05:54 model\n",
            "drwxr-xr-x 1 root root 4096 Jun 26 16:26 sample_data\n"
          ],
          "name": "stdout"
        }
      ]
    },
    {
      "cell_type": "code",
      "metadata": {
        "id": "fgeJWO4Wp1gU",
        "colab_type": "code",
        "colab": {
          "base_uri": "https://localhost:8080/",
          "height": 35
        },
        "outputId": "b3d01e33-d908-419f-8d85-51df2716876a"
      },
      "source": [
        "%tensorflow_version 2.x\n",
        "import tensorflow as tf\n",
        "device_name = tf.test.gpu_device_name()\n",
        "if device_name != '/device:GPU:0':\n",
        "  raise SystemError('GPU device not found')\n",
        "print('Found GPU at: {}'.format(device_name))"
      ],
      "execution_count": 51,
      "outputs": [
        {
          "output_type": "stream",
          "text": [
            "Found GPU at: /device:GPU:0\n"
          ],
          "name": "stdout"
        }
      ]
    },
    {
      "cell_type": "code",
      "metadata": {
        "id": "7vjbiBV0qSak",
        "colab_type": "code",
        "colab": {}
      },
      "source": [
        "from tensorflow import keras"
      ],
      "execution_count": 52,
      "outputs": []
    },
    {
      "cell_type": "code",
      "metadata": {
        "id": "XbOXsrNsp9O7",
        "colab_type": "code",
        "colab": {}
      },
      "source": [
        "import tensorflow as tf\n",
        "import numpy as np\n",
        "from tensorflow import keras\n",
        "from keras.datasets import cifar100\n",
        "(X_train, y_train), (X_test, y_test) = \\\n",
        "                                cifar100.load_data(label_mode='fine')"
      ],
      "execution_count": 71,
      "outputs": []
    },
    {
      "cell_type": "code",
      "metadata": {
        "id": "BnCkAsHNqLEE",
        "colab_type": "code",
        "colab": {
          "base_uri": "https://localhost:8080/",
          "height": 35
        },
        "outputId": "8b9b5ccb-6f28-4039-d408-f5952811b495"
      },
      "source": [
        "X_train.shape, X_test.shape"
      ],
      "execution_count": 72,
      "outputs": [
        {
          "output_type": "execute_result",
          "data": {
            "text/plain": [
              "((50000, 32, 32, 3), (10000, 32, 32, 3))"
            ]
          },
          "metadata": {
            "tags": []
          },
          "execution_count": 72
        }
      ]
    },
    {
      "cell_type": "code",
      "metadata": {
        "id": "gzoWPWNAqMU9",
        "colab_type": "code",
        "colab": {
          "base_uri": "https://localhost:8080/",
          "height": 197
        },
        "outputId": "e9552457-9ee0-4270-9860-1d3a73d28635"
      },
      "source": [
        "y_train[:10]"
      ],
      "execution_count": 73,
      "outputs": [
        {
          "output_type": "execute_result",
          "data": {
            "text/plain": [
              "array([[19],\n",
              "       [29],\n",
              "       [ 0],\n",
              "       [11],\n",
              "       [ 1],\n",
              "       [86],\n",
              "       [90],\n",
              "       [28],\n",
              "       [23],\n",
              "       [31]])"
            ]
          },
          "metadata": {
            "tags": []
          },
          "execution_count": 73
        }
      ]
    },
    {
      "cell_type": "markdown",
      "metadata": {
        "id": "PinA4Ptsql6U",
        "colab_type": "text"
      },
      "source": [
        "데이터확인"
      ]
    },
    {
      "cell_type": "code",
      "metadata": {
        "id": "Sqdz6EisqMY4",
        "colab_type": "code",
        "colab": {
          "base_uri": "https://localhost:8080/",
          "height": 124
        },
        "outputId": "55da6f7a-fcae-4494-f3b6-4478c402f7b5"
      },
      "source": [
        "import matplotlib as mpl\n",
        "import matplotlib.pyplot as plt\n",
        "%matplotlib inline\n",
        "\n",
        "plt.subplot(141)\n",
        "plt.imshow(X_train[0], interpolation=\"bicubic\")\n",
        "plt.grid(False)\n",
        "plt.subplot(142)\n",
        "plt.imshow(X_train[4], interpolation=\"bicubic\")\n",
        "plt.grid(False)\n",
        "plt.subplot(143)\n",
        "plt.imshow(X_train[8], interpolation=\"bicubic\")\n",
        "plt.grid(False)\n",
        "plt.subplot(144)\n",
        "plt.imshow(X_train[12], interpolation=\"bicubic\")\n",
        "plt.grid(False)\n",
        "plt.show()"
      ],
      "execution_count": 74,
      "outputs": [
        {
          "output_type": "display_data",
          "data": {
            "image/png": "[encoded data removed]",
            "text/plain": [
              "<Figure size 432x288 with 4 Axes>"
            ]
          },
          "metadata": {
            "tags": [],
            "needs_background": "light"
          }
        }
      ]
    },
    {
      "cell_type": "code",
      "metadata": {
        "id": "R60vmWCXqlNL",
        "colab_type": "code",
        "colab": {
          "base_uri": "https://localhost:8080/",
          "height": 35
        },
        "outputId": "0c7763b5-414b-467f-a2d5-242e53386e1d"
      },
      "source": [
        "y_train[0], y_train[4], y_train[8], y_train[12]"
      ],
      "execution_count": 75,
      "outputs": [
        {
          "output_type": "execute_result",
          "data": {
            "text/plain": [
              "(array([19]), array([1]), array([23]), array([82]))"
            ]
          },
          "metadata": {
            "tags": []
          },
          "execution_count": 75
        }
      ]
    },
    {
      "cell_type": "code",
      "metadata": {
        "id": "GdPUl8bzqMcc",
        "colab_type": "code",
        "colab": {
          "base_uri": "https://localhost:8080/",
          "height": 323
        },
        "outputId": "e1e1c930-470e-427d-fcbc-2a0ed090c7ac"
      },
      "source": [
        "dir(cifar100)"
      ],
      "execution_count": 76,
      "outputs": [
        {
          "output_type": "execute_result",
          "data": {
            "text/plain": [
              "['K',\n",
              " '__builtins__',\n",
              " '__cached__',\n",
              " '__doc__',\n",
              " '__file__',\n",
              " '__loader__',\n",
              " '__name__',\n",
              " '__package__',\n",
              " '__spec__',\n",
              " 'absolute_import',\n",
              " 'division',\n",
              " 'get_file',\n",
              " 'load_batch',\n",
              " 'load_data',\n",
              " 'np',\n",
              " 'os',\n",
              " 'print_function']"
            ]
          },
          "metadata": {
            "tags": []
          },
          "execution_count": 76
        }
      ]
    },
    {
      "cell_type": "code",
      "metadata": {
        "id": "Gy3lbsl5qMfz",
        "colab_type": "code",
        "colab": {}
      },
      "source": [
        "## https://corochann.com/cifar-10-cifar-100-dataset-introduction-1258.html\n",
        "CIFAR100_LABELS_LIST = [\n",
        "    'apple', 'aquarium_fish', 'baby', 'bear', 'beaver', 'bed', 'bee', 'beetle', \n",
        "    'bicycle', 'bottle', 'bowl', 'boy', 'bridge', 'bus', 'butterfly', 'camel', \n",
        "    'can', 'castle', 'caterpillar', 'cattle', 'chair', 'chimpanzee', 'clock', \n",
        "    'cloud', 'cockroach', 'couch', 'crab', 'crocodile', 'cup', 'dinosaur', \n",
        "    'dolphin', 'elephant', 'flatfish', 'forest', 'fox', 'girl', 'hamster', \n",
        "    'house', 'kangaroo', 'keyboard', 'lamp', 'lawn_mower', 'leopard', 'lion',\n",
        "    'lizard', 'lobster', 'man', 'maple_tree', 'motorcycle', 'mountain', 'mouse',\n",
        "    'mushroom', 'oak_tree', 'orange', 'orchid', 'otter', 'palm_tree', 'pear',\n",
        "    'pickup_truck', 'pine_tree', 'plain', 'plate', 'poppy', 'porcupine',\n",
        "    'possum', 'rabbit', 'raccoon', 'ray', 'road', 'rocket', 'rose',\n",
        "    'sea', 'seal', 'shark', 'shrew', 'skunk', 'skyscraper', 'snail', 'snake',\n",
        "    'spider', 'squirrel', 'streetcar', 'sunflower', 'sweet_pepper', 'table',\n",
        "    'tank', 'telephone', 'television', 'tiger', 'tractor', 'train', 'trout',\n",
        "    'tulip', 'turtle', 'wardrobe', 'whale', 'willow_tree', 'wolf', 'woman',\n",
        "    'worm'\n",
        "]"
      ],
      "execution_count": 77,
      "outputs": []
    },
    {
      "cell_type": "code",
      "metadata": {
        "id": "wioTZgWRqMjM",
        "colab_type": "code",
        "colab": {
          "base_uri": "https://localhost:8080/",
          "height": 35
        },
        "outputId": "a29c23b4-63f2-40a0-ede3-6f7daee02874"
      },
      "source": [
        "CIFAR100_LABELS_LIST[y_train[0][0]],CIFAR100_LABELS_LIST[y_train[4][0]], \\\n",
        "    CIFAR100_LABELS_LIST[y_train[8][0]],CIFAR100_LABELS_LIST[y_train[12][0]]"
      ],
      "execution_count": 78,
      "outputs": [
        {
          "output_type": "execute_result",
          "data": {
            "text/plain": [
              "('cattle', 'aquarium_fish', 'cloud', 'sunflower')"
            ]
          },
          "metadata": {
            "tags": []
          },
          "execution_count": 78
        }
      ]
    },
    {
      "cell_type": "markdown",
      "metadata": {
        "id": "DZfgzukRrLR8",
        "colab_type": "text"
      },
      "source": [
        "#### 자료형 변환 및 스케일링\n",
        "- X: 실수형으로 정규화\n",
        "- Y: 1-hot encoding\n"
      ]
    },
    {
      "cell_type": "code",
      "metadata": {
        "id": "Z9VWP8EHqMnJ",
        "colab_type": "code",
        "colab": {
          "base_uri": "https://localhost:8080/",
          "height": 35
        },
        "outputId": "fc0a2b7c-f417-476f-95a2-c0db682db74e"
      },
      "source": [
        "X_train = X_train.astype('float32')/255.0\n",
        "X_test = X_test.astype('float32')/255.0\n",
        "\n",
        "print(X_train.shape, X_train.dtype)"
      ],
      "execution_count": 79,
      "outputs": [
        {
          "output_type": "stream",
          "text": [
            "(50000, 32, 32, 3) float32\n"
          ],
          "name": "stdout"
        }
      ]
    },
    {
      "cell_type": "code",
      "metadata": {
        "id": "Ed7BSTxyq1al",
        "colab_type": "code",
        "colab": {
          "base_uri": "https://localhost:8080/",
          "height": 269
        },
        "outputId": "1b32e3b4-31de-4993-f7af-c9cbc2677a7b"
      },
      "source": [
        "\n",
        "Y_train = tf.keras.utils.to_categorical(y_train, 100)\n",
        "Y_test = tf.keras.utils.to_categorical(y_test, 100)\n",
        "Y_train[:2]"
      ],
      "execution_count": 80,
      "outputs": [
        {
          "output_type": "execute_result",
          "data": {
            "text/plain": [
              "array([[0., 0., 0., 0., 0., 0., 0., 0., 0., 0., 0., 0., 0., 0., 0., 0.,\n",
              "        0., 0., 0., 1., 0., 0., 0., 0., 0., 0., 0., 0., 0., 0., 0., 0.,\n",
              "        0., 0., 0., 0., 0., 0., 0., 0., 0., 0., 0., 0., 0., 0., 0., 0.,\n",
              "        0., 0., 0., 0., 0., 0., 0., 0., 0., 0., 0., 0., 0., 0., 0., 0.,\n",
              "        0., 0., 0., 0., 0., 0., 0., 0., 0., 0., 0., 0., 0., 0., 0., 0.,\n",
              "        0., 0., 0., 0., 0., 0., 0., 0., 0., 0., 0., 0., 0., 0., 0., 0.,\n",
              "        0., 0., 0., 0.],\n",
              "       [0., 0., 0., 0., 0., 0., 0., 0., 0., 0., 0., 0., 0., 0., 0., 0.,\n",
              "        0., 0., 0., 0., 0., 0., 0., 0., 0., 0., 0., 0., 0., 1., 0., 0.,\n",
              "        0., 0., 0., 0., 0., 0., 0., 0., 0., 0., 0., 0., 0., 0., 0., 0.,\n",
              "        0., 0., 0., 0., 0., 0., 0., 0., 0., 0., 0., 0., 0., 0., 0., 0.,\n",
              "        0., 0., 0., 0., 0., 0., 0., 0., 0., 0., 0., 0., 0., 0., 0., 0.,\n",
              "        0., 0., 0., 0., 0., 0., 0., 0., 0., 0., 0., 0., 0., 0., 0., 0.,\n",
              "        0., 0., 0., 0.]], dtype=float32)"
            ]
          },
          "metadata": {
            "tags": []
          },
          "execution_count": 80
        }
      ]
    },
    {
      "cell_type": "markdown",
      "metadata": {
        "id": "_IcNZZbYrT5k",
        "colab_type": "text"
      },
      "source": [
        "### 자료의 일부만 사용하여 모델 테스트 하기"
      ]
    },
    {
      "cell_type": "code",
      "metadata": {
        "id": "cf54LuGOq1e-",
        "colab_type": "code",
        "colab": {}
      },
      "source": [
        "from sklearn.model_selection import train_test_split"
      ],
      "execution_count": 81,
      "outputs": []
    },
    {
      "cell_type": "markdown",
      "metadata": {
        "id": "lGuLLY9ZrcSb",
        "colab_type": "text"
      },
      "source": [
        "#### 모형 구현"
      ]
    },
    {
      "cell_type": "code",
      "metadata": {
        "id": "pBlkh-lYq1jW",
        "colab_type": "code",
        "colab": {}
      },
      "source": [
        "from keras.models import Sequential\n",
        "from keras.layers import Conv2D, MaxPooling2D, Flatten, Dense, Dropout\n",
        "from keras.layers import Activation\n"
      ],
      "execution_count": 82,
      "outputs": []
    },
    {
      "cell_type": "code",
      "metadata": {
        "id": "WOUfY0MJrZS4",
        "colab_type": "code",
        "colab": {
          "base_uri": "https://localhost:8080/",
          "height": 845
        },
        "outputId": "87a054fa-eb25-474d-8d92-6cb81b8e1719"
      },
      "source": [
        "model = Sequential()\n",
        "\n",
        "# Input Layer\n",
        "model.add(Conv2D(32, (3,3), padding='same', input_shape = X_train.shape[1:]))\n",
        "model.add(Activation('relu'))\n",
        "# MAXPOOL Layer 1\n",
        "model.add(MaxPooling2D(pool_size=(2, 2)))\n",
        "model.add(Activation('relu'))\n",
        "# CONV2D Layer 2\n",
        "model.add(Conv2D(64, (3,3), padding='same'))\n",
        "model.add(Activation('relu'))\n",
        "# MAXPOOL Layer 2\n",
        "model.add(MaxPooling2D(pool_size=(2, 2)))\n",
        "model.add(Activation('relu'))\n",
        "# Add a dropout of 10%\n",
        "model.add(Dropout(0.1))\n",
        "# CONV2D Layer 3\n",
        "model.add(Conv2D(128, (3,3), padding='same'))\n",
        "model.add(Activation('relu'))\n",
        "# MAXPOOL Layer 3\n",
        "model.add(MaxPooling2D(pool_size=(2,2)))\n",
        "# Add dropout of 25%\n",
        "model.add(Dropout(0.25))\n",
        "# flatten \n",
        "model.add(Flatten())\n",
        "# Fully Connected Layer 1\n",
        "model.add(Dense(512))\n",
        "model.add(Activation('relu'))\n",
        "# Adding a dropout of 50%\n",
        "model.add(Dropout(0.5))\n",
        "# Output Layer (Fully Connected Layer 2) \n",
        "model.add(Dense(100))\n",
        "model.add(Activation('softmax'))\n",
        "          \n",
        "model.summary()"
      ],
      "execution_count": 83,
      "outputs": [
        {
          "output_type": "stream",
          "text": [
            "Model: \"sequential_1\"\n",
            "_________________________________________________________________\n",
            "Layer (type)                 Output Shape              Param #   \n",
            "=================================================================\n",
            "conv2d_1 (Conv2D)            (None, 32, 32, 32)        896       \n",
            "_________________________________________________________________\n",
            "activation_1 (Activation)    (None, 32, 32, 32)        0         \n",
            "_________________________________________________________________\n",
            "max_pooling2d_1 (MaxPooling2 (None, 16, 16, 32)        0         \n",
            "_________________________________________________________________\n",
            "activation_2 (Activation)    (None, 16, 16, 32)        0         \n",
            "_________________________________________________________________\n",
            "conv2d_2 (Conv2D)            (None, 16, 16, 64)        18496     \n",
            "_________________________________________________________________\n",
            "activation_3 (Activation)    (None, 16, 16, 64)        0         \n",
            "_________________________________________________________________\n",
            "max_pooling2d_2 (MaxPooling2 (None, 8, 8, 64)          0         \n",
            "_________________________________________________________________\n",
            "activation_4 (Activation)    (None, 8, 8, 64)          0         \n",
            "_________________________________________________________________\n",
            "dropout_1 (Dropout)          (None, 8, 8, 64)          0         \n",
            "_________________________________________________________________\n",
            "conv2d_3 (Conv2D)            (None, 8, 8, 128)         73856     \n",
            "_________________________________________________________________\n",
            "activation_5 (Activation)    (None, 8, 8, 128)         0         \n",
            "_________________________________________________________________\n",
            "max_pooling2d_3 (MaxPooling2 (None, 4, 4, 128)         0         \n",
            "_________________________________________________________________\n",
            "dropout_2 (Dropout)          (None, 4, 4, 128)         0         \n",
            "_________________________________________________________________\n",
            "flatten_1 (Flatten)          (None, 2048)              0         \n",
            "_________________________________________________________________\n",
            "dense_1 (Dense)              (None, 512)               1049088   \n",
            "_________________________________________________________________\n",
            "activation_6 (Activation)    (None, 512)               0         \n",
            "_________________________________________________________________\n",
            "dropout_3 (Dropout)          (None, 512)               0         \n",
            "_________________________________________________________________\n",
            "dense_2 (Dense)              (None, 100)               51300     \n",
            "_________________________________________________________________\n",
            "activation_7 (Activation)    (None, 100)               0         \n",
            "=================================================================\n",
            "Total params: 1,193,636\n",
            "Trainable params: 1,193,636\n",
            "Non-trainable params: 0\n",
            "_________________________________________________________________\n"
          ],
          "name": "stdout"
        }
      ]
    },
    {
      "cell_type": "code",
      "metadata": {
        "id": "FQXnS1ESrZWC",
        "colab_type": "code",
        "colab": {}
      },
      "source": [
        "opt = tf.keras.optimizers.Adam(lr=0.0001)\n",
        "model.compile(loss='categorical_crossentropy', optimizer=opt, metrics=['accuracy'])"
      ],
      "execution_count": 84,
      "outputs": []
    },
    {
      "cell_type": "code",
      "metadata": {
        "id": "A6cUrjIErZZF",
        "colab_type": "code",
        "colab": {
          "base_uri": "https://localhost:8080/",
          "height": 35
        },
        "outputId": "86550e37-450a-486c-9d46-1d49bb8d07e9"
      },
      "source": [
        "Y_train.shape, Y_test.shape"
      ],
      "execution_count": 85,
      "outputs": [
        {
          "output_type": "execute_result",
          "data": {
            "text/plain": [
              "((50000, 100), (10000, 100))"
            ]
          },
          "metadata": {
            "tags": []
          },
          "execution_count": 85
        }
      ]
    },
    {
      "cell_type": "markdown",
      "metadata": {
        "id": "8RCxVjjUL3Rn",
        "colab_type": "text"
      },
      "source": [
        "###### Callback 선언"
      ]
    },
    {
      "cell_type": "code",
      "metadata": {
        "id": "bkKRQ5O85HSD",
        "colab_type": "code",
        "colab": {}
      },
      "source": [
        "from keras.callbacks import ModelCheckpoint, EarlyStopping"
      ],
      "execution_count": 86,
      "outputs": []
    },
    {
      "cell_type": "code",
      "metadata": {
        "id": "t1X3Pv7d6kFH",
        "colab_type": "code",
        "colab": {}
      },
      "source": [
        "modelpath = \"model/cifar-100-{epoch:03d}-{val_loss:.4f}.hdf5\"\n",
        "checkpointer = ModelCheckpoint(filepath=modelpath, monitor='val_loss', \n",
        "                               verbose=1, save_best_only=True)\n",
        "early_stopping_callback = EarlyStopping(monitor='val_loss', patience=20)"
      ],
      "execution_count": 87,
      "outputs": []
    },
    {
      "cell_type": "code",
      "metadata": {
        "id": "mm4naoSiL-Cl",
        "colab_type": "code",
        "colab": {
          "base_uri": "https://localhost:8080/",
          "height": 1000
        },
        "outputId": "d26203a9-94b7-4002-faf0-509a099c6954"
      },
      "source": [
        "history = model.fit(X_train, Y_train, epochs=300, batch_size=50,\n",
        "                    validation_data=(X_test, Y_test), verbose=1,\n",
        "                    callbacks=[checkpointer, early_stopping_callback])"
      ],
      "execution_count": 88,
      "outputs": [
        {
          "output_type": "stream",
          "text": [
            "Train on 50000 samples, validate on 10000 samples\n",
            "Epoch 1/300\n",
            "50000/50000 [==============================] - 13s 256us/step - loss: 4.3519 - accuracy: 0.0403 - val_loss: 3.9869 - val_accuracy: 0.0994\n",
            "\n",
            "Epoch 00001: val_loss improved from inf to 3.98689, saving model to model/cifar-100-001-3.9869.hdf5\n",
            "Epoch 2/300\n",
            "  800/50000 [..............................] - ETA: 11s - loss: 4.0433 - accuracy: 0.0850"
          ],
          "name": "stdout"
        },
        {
          "output_type": "stream",
          "text": [
            "/usr/local/lib/python3.6/dist-packages/keras/engine/saving.py:165: UserWarning: TensorFlow optimizers do not make it possible to access optimizer attributes or optimizer state after instantiation. As a result, we cannot save the optimizer as part of the model save file.You will have to compile your model again after loading it. Prefer using a Keras optimizer instead (see keras.io/optimizers).\n",
            "  'TensorFlow optimizers do not '\n"
          ],
          "name": "stderr"
        },
        {
          "output_type": "stream",
          "text": [
            "50000/50000 [==============================] - 12s 245us/step - loss: 3.9075 - accuracy: 0.1050 - val_loss: 3.6384 - val_accuracy: 0.1651\n",
            "\n",
            "Epoch 00002: val_loss improved from 3.98689 to 3.63839, saving model to model/cifar-100-002-3.6384.hdf5\n",
            "Epoch 3/300\n",
            "50000/50000 [==============================] - 12s 242us/step - loss: 3.6712 - accuracy: 0.1434 - val_loss: 3.4253 - val_accuracy: 0.2041\n",
            "\n",
            "Epoch 00003: val_loss improved from 3.63839 to 3.42535, saving model to model/cifar-100-003-3.4253.hdf5\n",
            "Epoch 4/300\n",
            "50000/50000 [==============================] - 13s 255us/step - loss: 3.5008 - accuracy: 0.1709 - val_loss: 3.2973 - val_accuracy: 0.2242\n",
            "\n",
            "Epoch 00004: val_loss improved from 3.42535 to 3.29733, saving model to model/cifar-100-004-3.2973.hdf5\n",
            "Epoch 5/300\n",
            "50000/50000 [==============================] - 12s 243us/step - loss: 3.3674 - accuracy: 0.1926 - val_loss: 3.1571 - val_accuracy: 0.2516\n",
            "\n",
            "Epoch 00005: val_loss improved from 3.29733 to 3.15708, saving model to model/cifar-100-005-3.1571.hdf5\n",
            "Epoch 6/300\n",
            "50000/50000 [==============================] - 12s 240us/step - loss: 3.2470 - accuracy: 0.2161 - val_loss: 3.0468 - val_accuracy: 0.2706\n",
            "\n",
            "Epoch 00006: val_loss improved from 3.15708 to 3.04677, saving model to model/cifar-100-006-3.0468.hdf5\n",
            "Epoch 7/300\n",
            "50000/50000 [==============================] - 12s 240us/step - loss: 3.1480 - accuracy: 0.2323 - val_loss: 2.9576 - val_accuracy: 0.2844\n",
            "\n",
            "Epoch 00007: val_loss improved from 3.04677 to 2.95762, saving model to model/cifar-100-007-2.9576.hdf5\n",
            "Epoch 8/300\n",
            "50000/50000 [==============================] - 12s 240us/step - loss: 3.0619 - accuracy: 0.2493 - val_loss: 2.8848 - val_accuracy: 0.3013\n",
            "\n",
            "Epoch 00008: val_loss improved from 2.95762 to 2.88482, saving model to model/cifar-100-008-2.8848.hdf5\n",
            "Epoch 9/300\n",
            "50000/50000 [==============================] - 12s 242us/step - loss: 2.9872 - accuracy: 0.2634 - val_loss: 2.8229 - val_accuracy: 0.3097\n",
            "\n",
            "Epoch 00009: val_loss improved from 2.88482 to 2.82293, saving model to model/cifar-100-009-2.8229.hdf5\n",
            "Epoch 10/300\n",
            "50000/50000 [==============================] - 12s 241us/step - loss: 2.9193 - accuracy: 0.2774 - val_loss: 2.7477 - val_accuracy: 0.3235\n",
            "\n",
            "Epoch 00010: val_loss improved from 2.82293 to 2.74765, saving model to model/cifar-100-010-2.7477.hdf5\n",
            "Epoch 11/300\n",
            "50000/50000 [==============================] - 12s 241us/step - loss: 2.8554 - accuracy: 0.2883 - val_loss: 2.7050 - val_accuracy: 0.3305\n",
            "\n",
            "Epoch 00011: val_loss improved from 2.74765 to 2.70496, saving model to model/cifar-100-011-2.7050.hdf5\n",
            "Epoch 12/300\n",
            "50000/50000 [==============================] - 12s 240us/step - loss: 2.7904 - accuracy: 0.3044 - val_loss: 2.6719 - val_accuracy: 0.3397\n",
            "\n",
            "Epoch 00012: val_loss improved from 2.70496 to 2.67192, saving model to model/cifar-100-012-2.6719.hdf5\n",
            "Epoch 13/300\n",
            "50000/50000 [==============================] - 12s 239us/step - loss: 2.7433 - accuracy: 0.3122 - val_loss: 2.6069 - val_accuracy: 0.3472\n",
            "\n",
            "Epoch 00013: val_loss improved from 2.67192 to 2.60690, saving model to model/cifar-100-013-2.6069.hdf5\n",
            "Epoch 14/300\n",
            "50000/50000 [==============================] - 12s 241us/step - loss: 2.6965 - accuracy: 0.3225 - val_loss: 2.5621 - val_accuracy: 0.3609\n",
            "\n",
            "Epoch 00014: val_loss improved from 2.60690 to 2.56211, saving model to model/cifar-100-014-2.5621.hdf5\n",
            "Epoch 15/300\n",
            "50000/50000 [==============================] - 12s 240us/step - loss: 2.6459 - accuracy: 0.3308 - val_loss: 2.5285 - val_accuracy: 0.3729\n",
            "\n",
            "Epoch 00015: val_loss improved from 2.56211 to 2.52846, saving model to model/cifar-100-015-2.5285.hdf5\n",
            "Epoch 16/300\n",
            "50000/50000 [==============================] - 12s 240us/step - loss: 2.6018 - accuracy: 0.3411 - val_loss: 2.5128 - val_accuracy: 0.3700\n",
            "\n",
            "Epoch 00016: val_loss improved from 2.52846 to 2.51284, saving model to model/cifar-100-016-2.5128.hdf5\n",
            "Epoch 17/300\n",
            "50000/50000 [==============================] - 12s 239us/step - loss: 2.5698 - accuracy: 0.3471 - val_loss: 2.4680 - val_accuracy: 0.3830\n",
            "\n",
            "Epoch 00017: val_loss improved from 2.51284 to 2.46798, saving model to model/cifar-100-017-2.4680.hdf5\n",
            "Epoch 18/300\n",
            "50000/50000 [==============================] - 12s 240us/step - loss: 2.5197 - accuracy: 0.3571 - val_loss: 2.4436 - val_accuracy: 0.3861\n",
            "\n",
            "Epoch 00018: val_loss improved from 2.46798 to 2.44361, saving model to model/cifar-100-018-2.4436.hdf5\n",
            "Epoch 19/300\n",
            "50000/50000 [==============================] - 12s 237us/step - loss: 2.4894 - accuracy: 0.3636 - val_loss: 2.4319 - val_accuracy: 0.3846\n",
            "\n",
            "Epoch 00019: val_loss improved from 2.44361 to 2.43188, saving model to model/cifar-100-019-2.4319.hdf5\n",
            "Epoch 20/300\n",
            "50000/50000 [==============================] - 12s 243us/step - loss: 2.4557 - accuracy: 0.3729 - val_loss: 2.3766 - val_accuracy: 0.3958\n",
            "\n",
            "Epoch 00020: val_loss improved from 2.43188 to 2.37663, saving model to model/cifar-100-020-2.3766.hdf5\n",
            "Epoch 21/300\n",
            "50000/50000 [==============================] - 12s 235us/step - loss: 2.4174 - accuracy: 0.3806 - val_loss: 2.3669 - val_accuracy: 0.3992\n",
            "\n",
            "Epoch 00021: val_loss improved from 2.37663 to 2.36690, saving model to model/cifar-100-021-2.3669.hdf5\n",
            "Epoch 22/300\n",
            "50000/50000 [==============================] - 12s 235us/step - loss: 2.3829 - accuracy: 0.3863 - val_loss: 2.3254 - val_accuracy: 0.4116\n",
            "\n",
            "Epoch 00022: val_loss improved from 2.36690 to 2.32541, saving model to model/cifar-100-022-2.3254.hdf5\n",
            "Epoch 23/300\n",
            "50000/50000 [==============================] - 12s 234us/step - loss: 2.3483 - accuracy: 0.3939 - val_loss: 2.3314 - val_accuracy: 0.4127\n",
            "\n",
            "Epoch 00023: val_loss did not improve from 2.32541\n",
            "Epoch 24/300\n",
            "50000/50000 [==============================] - 12s 234us/step - loss: 2.3180 - accuracy: 0.3979 - val_loss: 2.2951 - val_accuracy: 0.4171\n",
            "\n",
            "Epoch 00024: val_loss improved from 2.32541 to 2.29505, saving model to model/cifar-100-024-2.2951.hdf5\n",
            "Epoch 25/300\n",
            "50000/50000 [==============================] - 12s 236us/step - loss: 2.2861 - accuracy: 0.4051 - val_loss: 2.2852 - val_accuracy: 0.4225\n",
            "\n",
            "Epoch 00025: val_loss improved from 2.29505 to 2.28519, saving model to model/cifar-100-025-2.2852.hdf5\n",
            "Epoch 26/300\n",
            "50000/50000 [==============================] - 12s 235us/step - loss: 2.2572 - accuracy: 0.4120 - val_loss: 2.2542 - val_accuracy: 0.4240\n",
            "\n",
            "Epoch 00026: val_loss improved from 2.28519 to 2.25418, saving model to model/cifar-100-026-2.2542.hdf5\n",
            "Epoch 27/300\n",
            "50000/50000 [==============================] - 12s 234us/step - loss: 2.2255 - accuracy: 0.4179 - val_loss: 2.2449 - val_accuracy: 0.4299\n",
            "\n",
            "Epoch 00027: val_loss improved from 2.25418 to 2.24495, saving model to model/cifar-100-027-2.2449.hdf5\n",
            "Epoch 28/300\n",
            "50000/50000 [==============================] - 12s 235us/step - loss: 2.2070 - accuracy: 0.4219 - val_loss: 2.2249 - val_accuracy: 0.4319\n",
            "\n",
            "Epoch 00028: val_loss improved from 2.24495 to 2.22489, saving model to model/cifar-100-028-2.2249.hdf5\n",
            "Epoch 29/300\n",
            "50000/50000 [==============================] - 12s 235us/step - loss: 2.1723 - accuracy: 0.4278 - val_loss: 2.2024 - val_accuracy: 0.4358\n",
            "\n",
            "Epoch 00029: val_loss improved from 2.22489 to 2.20238, saving model to model/cifar-100-029-2.2024.hdf5\n",
            "Epoch 30/300\n",
            "50000/50000 [==============================] - 12s 250us/step - loss: 2.1475 - accuracy: 0.4353 - val_loss: 2.1932 - val_accuracy: 0.4416\n",
            "\n",
            "Epoch 00030: val_loss improved from 2.20238 to 2.19320, saving model to model/cifar-100-030-2.1932.hdf5\n",
            "Epoch 31/300\n",
            "50000/50000 [==============================] - 12s 246us/step - loss: 2.1245 - accuracy: 0.4388 - val_loss: 2.1912 - val_accuracy: 0.4418\n",
            "\n",
            "Epoch 00031: val_loss improved from 2.19320 to 2.19124, saving model to model/cifar-100-031-2.1912.hdf5\n",
            "Epoch 32/300\n",
            "50000/50000 [==============================] - 12s 242us/step - loss: 2.0979 - accuracy: 0.4447 - val_loss: 2.1779 - val_accuracy: 0.4430\n",
            "\n",
            "Epoch 00032: val_loss improved from 2.19124 to 2.17792, saving model to model/cifar-100-032-2.1779.hdf5\n",
            "Epoch 33/300\n",
            "50000/50000 [==============================] - 12s 238us/step - loss: 2.0643 - accuracy: 0.4528 - val_loss: 2.1617 - val_accuracy: 0.4472\n",
            "\n",
            "Epoch 00033: val_loss improved from 2.17792 to 2.16171, saving model to model/cifar-100-033-2.1617.hdf5\n",
            "Epoch 34/300\n",
            "50000/50000 [==============================] - 12s 239us/step - loss: 2.0438 - accuracy: 0.4581 - val_loss: 2.1486 - val_accuracy: 0.4467\n",
            "\n",
            "Epoch 00034: val_loss improved from 2.16171 to 2.14856, saving model to model/cifar-100-034-2.1486.hdf5\n",
            "Epoch 35/300\n",
            "50000/50000 [==============================] - 12s 238us/step - loss: 2.0249 - accuracy: 0.4608 - val_loss: 2.1486 - val_accuracy: 0.4487\n",
            "\n",
            "Epoch 00035: val_loss did not improve from 2.14856\n",
            "Epoch 36/300\n",
            "50000/50000 [==============================] - 12s 236us/step - loss: 2.0053 - accuracy: 0.4638 - val_loss: 2.1331 - val_accuracy: 0.4536\n",
            "\n",
            "Epoch 00036: val_loss improved from 2.14856 to 2.13309, saving model to model/cifar-100-036-2.1331.hdf5\n",
            "Epoch 37/300\n",
            "50000/50000 [==============================] - 12s 236us/step - loss: 1.9783 - accuracy: 0.4709 - val_loss: 2.1313 - val_accuracy: 0.4575\n",
            "\n",
            "Epoch 00037: val_loss improved from 2.13309 to 2.13135, saving model to model/cifar-100-037-2.1313.hdf5\n",
            "Epoch 38/300\n",
            "50000/50000 [==============================] - 12s 236us/step - loss: 1.9586 - accuracy: 0.4721 - val_loss: 2.1099 - val_accuracy: 0.4563\n",
            "\n",
            "Epoch 00038: val_loss improved from 2.13135 to 2.10986, saving model to model/cifar-100-038-2.1099.hdf5\n",
            "Epoch 39/300\n",
            "50000/50000 [==============================] - 12s 233us/step - loss: 1.9392 - accuracy: 0.4773 - val_loss: 2.1074 - val_accuracy: 0.4629\n",
            "\n",
            "Epoch 00039: val_loss improved from 2.10986 to 2.10741, saving model to model/cifar-100-039-2.1074.hdf5\n",
            "Epoch 40/300\n",
            "50000/50000 [==============================] - 12s 233us/step - loss: 1.9205 - accuracy: 0.4810 - val_loss: 2.1079 - val_accuracy: 0.4604\n",
            "\n",
            "Epoch 00040: val_loss did not improve from 2.10741\n",
            "Epoch 41/300\n",
            "50000/50000 [==============================] - 12s 234us/step - loss: 1.8860 - accuracy: 0.4923 - val_loss: 2.0931 - val_accuracy: 0.4609\n",
            "\n",
            "Epoch 00041: val_loss improved from 2.10741 to 2.09310, saving model to model/cifar-100-041-2.0931.hdf5\n",
            "Epoch 42/300\n",
            "50000/50000 [==============================] - 12s 235us/step - loss: 1.8724 - accuracy: 0.4944 - val_loss: 2.0827 - val_accuracy: 0.4635\n",
            "\n",
            "Epoch 00042: val_loss improved from 2.09310 to 2.08267, saving model to model/cifar-100-042-2.0827.hdf5\n",
            "Epoch 43/300\n",
            "50000/50000 [==============================] - 12s 232us/step - loss: 1.8574 - accuracy: 0.4969 - val_loss: 2.0908 - val_accuracy: 0.4626\n",
            "\n",
            "Epoch 00043: val_loss did not improve from 2.08267\n",
            "Epoch 44/300\n",
            "50000/50000 [==============================] - 12s 233us/step - loss: 1.8337 - accuracy: 0.4994 - val_loss: 2.0702 - val_accuracy: 0.4666\n",
            "\n",
            "Epoch 00044: val_loss improved from 2.08267 to 2.07016, saving model to model/cifar-100-044-2.0702.hdf5\n",
            "Epoch 45/300\n",
            "50000/50000 [==============================] - 12s 233us/step - loss: 1.8162 - accuracy: 0.5068 - val_loss: 2.0835 - val_accuracy: 0.4633\n",
            "\n",
            "Epoch 00045: val_loss did not improve from 2.07016\n",
            "Epoch 46/300\n",
            "50000/50000 [==============================] - 12s 236us/step - loss: 1.7931 - accuracy: 0.5108 - val_loss: 2.0555 - val_accuracy: 0.4704\n",
            "\n",
            "Epoch 00046: val_loss improved from 2.07016 to 2.05545, saving model to model/cifar-100-046-2.0555.hdf5\n",
            "Epoch 47/300\n",
            "50000/50000 [==============================] - 12s 232us/step - loss: 1.7733 - accuracy: 0.5159 - val_loss: 2.0577 - val_accuracy: 0.4748\n",
            "\n",
            "Epoch 00047: val_loss did not improve from 2.05545\n",
            "Epoch 48/300\n",
            "50000/50000 [==============================] - 12s 232us/step - loss: 1.7557 - accuracy: 0.5193 - val_loss: 2.0609 - val_accuracy: 0.4699\n",
            "\n",
            "Epoch 00048: val_loss did not improve from 2.05545\n",
            "Epoch 49/300\n",
            "50000/50000 [==============================] - 12s 232us/step - loss: 1.7350 - accuracy: 0.5230 - val_loss: 2.0508 - val_accuracy: 0.4739\n",
            "\n",
            "Epoch 00049: val_loss improved from 2.05545 to 2.05080, saving model to model/cifar-100-049-2.0508.hdf5\n",
            "Epoch 50/300\n",
            "50000/50000 [==============================] - 12s 233us/step - loss: 1.7187 - accuracy: 0.5253 - val_loss: 2.0384 - val_accuracy: 0.4770\n",
            "\n",
            "Epoch 00050: val_loss improved from 2.05080 to 2.03835, saving model to model/cifar-100-050-2.0384.hdf5\n",
            "Epoch 51/300\n",
            "50000/50000 [==============================] - 12s 232us/step - loss: 1.7048 - accuracy: 0.5309 - val_loss: 2.0484 - val_accuracy: 0.4768\n",
            "\n",
            "Epoch 00051: val_loss did not improve from 2.03835\n",
            "Epoch 52/300\n",
            "50000/50000 [==============================] - 12s 231us/step - loss: 1.6841 - accuracy: 0.5333 - val_loss: 2.0382 - val_accuracy: 0.4783\n",
            "\n",
            "Epoch 00052: val_loss improved from 2.03835 to 2.03824, saving model to model/cifar-100-052-2.0382.hdf5\n",
            "Epoch 53/300\n",
            "50000/50000 [==============================] - 12s 232us/step - loss: 1.6696 - accuracy: 0.5369 - val_loss: 2.0332 - val_accuracy: 0.4781\n",
            "\n",
            "Epoch 00053: val_loss improved from 2.03824 to 2.03323, saving model to model/cifar-100-053-2.0332.hdf5\n",
            "Epoch 54/300\n",
            "50000/50000 [==============================] - 12s 231us/step - loss: 1.6580 - accuracy: 0.5404 - val_loss: 2.0230 - val_accuracy: 0.4812\n",
            "\n",
            "Epoch 00054: val_loss improved from 2.03323 to 2.02303, saving model to model/cifar-100-054-2.0230.hdf5\n",
            "Epoch 55/300\n",
            "50000/50000 [==============================] - 12s 230us/step - loss: 1.6334 - accuracy: 0.5431 - val_loss: 2.0247 - val_accuracy: 0.4802\n",
            "\n",
            "Epoch 00055: val_loss did not improve from 2.02303\n",
            "Epoch 56/300\n",
            "50000/50000 [==============================] - 12s 236us/step - loss: 1.6190 - accuracy: 0.5490 - val_loss: 2.0273 - val_accuracy: 0.4781\n",
            "\n",
            "Epoch 00056: val_loss did not improve from 2.02303\n",
            "Epoch 57/300\n",
            "50000/50000 [==============================] - 12s 248us/step - loss: 1.6017 - accuracy: 0.5523 - val_loss: 2.0257 - val_accuracy: 0.4811\n",
            "\n",
            "Epoch 00057: val_loss did not improve from 2.02303\n",
            "Epoch 58/300\n",
            "50000/50000 [==============================] - 12s 236us/step - loss: 1.5821 - accuracy: 0.5555 - val_loss: 2.0220 - val_accuracy: 0.4806\n",
            "\n",
            "Epoch 00058: val_loss improved from 2.02303 to 2.02198, saving model to model/cifar-100-058-2.0220.hdf5\n",
            "Epoch 59/300\n",
            "50000/50000 [==============================] - 12s 236us/step - loss: 1.5730 - accuracy: 0.5593 - val_loss: 2.0158 - val_accuracy: 0.4816\n",
            "\n",
            "Epoch 00059: val_loss improved from 2.02198 to 2.01582, saving model to model/cifar-100-059-2.0158.hdf5\n",
            "Epoch 60/300\n",
            "50000/50000 [==============================] - 12s 237us/step - loss: 1.5537 - accuracy: 0.5625 - val_loss: 2.0127 - val_accuracy: 0.4849\n",
            "\n",
            "Epoch 00060: val_loss improved from 2.01582 to 2.01268, saving model to model/cifar-100-060-2.0127.hdf5\n",
            "Epoch 61/300\n",
            "50000/50000 [==============================] - 12s 235us/step - loss: 1.5341 - accuracy: 0.5684 - val_loss: 2.0172 - val_accuracy: 0.4865\n",
            "\n",
            "Epoch 00061: val_loss did not improve from 2.01268\n",
            "Epoch 62/300\n",
            "50000/50000 [==============================] - 12s 233us/step - loss: 1.5314 - accuracy: 0.5683 - val_loss: 2.0385 - val_accuracy: 0.4789\n",
            "\n",
            "Epoch 00062: val_loss did not improve from 2.01268\n",
            "Epoch 63/300\n",
            "50000/50000 [==============================] - 12s 234us/step - loss: 1.5161 - accuracy: 0.5699 - val_loss: 2.0151 - val_accuracy: 0.4865\n",
            "\n",
            "Epoch 00063: val_loss did not improve from 2.01268\n",
            "Epoch 64/300\n",
            "50000/50000 [==============================] - 12s 234us/step - loss: 1.4960 - accuracy: 0.5749 - val_loss: 2.0048 - val_accuracy: 0.4860\n",
            "\n",
            "Epoch 00064: val_loss improved from 2.01268 to 2.00476, saving model to model/cifar-100-064-2.0048.hdf5\n",
            "Epoch 65/300\n",
            "50000/50000 [==============================] - 12s 234us/step - loss: 1.4895 - accuracy: 0.5763 - val_loss: 2.0148 - val_accuracy: 0.4859\n",
            "\n",
            "Epoch 00065: val_loss did not improve from 2.00476\n",
            "Epoch 66/300\n",
            "50000/50000 [==============================] - 12s 233us/step - loss: 1.4657 - accuracy: 0.5845 - val_loss: 2.0122 - val_accuracy: 0.4868\n",
            "\n",
            "Epoch 00066: val_loss did not improve from 2.00476\n",
            "Epoch 67/300\n",
            "50000/50000 [==============================] - 12s 232us/step - loss: 1.4671 - accuracy: 0.5835 - val_loss: 2.0171 - val_accuracy: 0.4823\n",
            "\n",
            "Epoch 00067: val_loss did not improve from 2.00476\n",
            "Epoch 68/300\n",
            "50000/50000 [==============================] - 11s 230us/step - loss: 1.4462 - accuracy: 0.5876 - val_loss: 2.0257 - val_accuracy: 0.4839\n",
            "\n",
            "Epoch 00068: val_loss did not improve from 2.00476\n",
            "Epoch 69/300\n",
            "50000/50000 [==============================] - 12s 231us/step - loss: 1.4352 - accuracy: 0.5902 - val_loss: 2.0157 - val_accuracy: 0.4883\n",
            "\n",
            "Epoch 00069: val_loss did not improve from 2.00476\n",
            "Epoch 70/300\n",
            "50000/50000 [==============================] - 12s 232us/step - loss: 1.4272 - accuracy: 0.5905 - val_loss: 2.0098 - val_accuracy: 0.4892\n",
            "\n",
            "Epoch 00070: val_loss did not improve from 2.00476\n",
            "Epoch 71/300\n",
            "50000/50000 [==============================] - 12s 231us/step - loss: 1.4084 - accuracy: 0.5954 - val_loss: 2.0425 - val_accuracy: 0.4849\n",
            "\n",
            "Epoch 00071: val_loss did not improve from 2.00476\n",
            "Epoch 72/300\n",
            "50000/50000 [==============================] - 12s 237us/step - loss: 1.3999 - accuracy: 0.5964 - val_loss: 2.0535 - val_accuracy: 0.4818\n",
            "\n",
            "Epoch 00072: val_loss did not improve from 2.00476\n",
            "Epoch 73/300\n",
            "50000/50000 [==============================] - 12s 232us/step - loss: 1.3937 - accuracy: 0.5987 - val_loss: 2.0084 - val_accuracy: 0.4891\n",
            "\n",
            "Epoch 00073: val_loss did not improve from 2.00476\n",
            "Epoch 74/300\n",
            "50000/50000 [==============================] - 12s 232us/step - loss: 1.3702 - accuracy: 0.6055 - val_loss: 2.0135 - val_accuracy: 0.4879\n",
            "\n",
            "Epoch 00074: val_loss did not improve from 2.00476\n",
            "Epoch 75/300\n",
            "50000/50000 [==============================] - 12s 232us/step - loss: 1.3549 - accuracy: 0.6081 - val_loss: 2.0357 - val_accuracy: 0.4822\n",
            "\n",
            "Epoch 00075: val_loss did not improve from 2.00476\n",
            "Epoch 76/300\n",
            "50000/50000 [==============================] - 12s 232us/step - loss: 1.3544 - accuracy: 0.6067 - val_loss: 2.0175 - val_accuracy: 0.4865\n",
            "\n",
            "Epoch 00076: val_loss did not improve from 2.00476\n",
            "Epoch 77/300\n",
            "50000/50000 [==============================] - 12s 231us/step - loss: 1.3405 - accuracy: 0.6117 - val_loss: 2.0069 - val_accuracy: 0.4922\n",
            "\n",
            "Epoch 00077: val_loss did not improve from 2.00476\n",
            "Epoch 78/300\n",
            "50000/50000 [==============================] - 12s 231us/step - loss: 1.3323 - accuracy: 0.6138 - val_loss: 2.0142 - val_accuracy: 0.4887\n",
            "\n",
            "Epoch 00078: val_loss did not improve from 2.00476\n",
            "Epoch 79/300\n",
            "50000/50000 [==============================] - 11s 230us/step - loss: 1.3054 - accuracy: 0.6184 - val_loss: 2.0105 - val_accuracy: 0.4915\n",
            "\n",
            "Epoch 00079: val_loss did not improve from 2.00476\n",
            "Epoch 80/300\n",
            "50000/50000 [==============================] - 12s 230us/step - loss: 1.2985 - accuracy: 0.6228 - val_loss: 2.0400 - val_accuracy: 0.4891\n",
            "\n",
            "Epoch 00080: val_loss did not improve from 2.00476\n",
            "Epoch 81/300\n",
            "50000/50000 [==============================] - 11s 229us/step - loss: 1.2885 - accuracy: 0.6262 - val_loss: 2.0196 - val_accuracy: 0.4905\n",
            "\n",
            "Epoch 00081: val_loss did not improve from 2.00476\n",
            "Epoch 82/300\n",
            "50000/50000 [==============================] - 12s 230us/step - loss: 1.2840 - accuracy: 0.6223 - val_loss: 2.0459 - val_accuracy: 0.4867\n",
            "\n",
            "Epoch 00082: val_loss did not improve from 2.00476\n",
            "Epoch 83/300\n",
            "50000/50000 [==============================] - 12s 243us/step - loss: 1.2838 - accuracy: 0.6241 - val_loss: 2.0240 - val_accuracy: 0.4920\n",
            "\n",
            "Epoch 00083: val_loss did not improve from 2.00476\n",
            "Epoch 84/300\n",
            "50000/50000 [==============================] - 12s 242us/step - loss: 1.2653 - accuracy: 0.6303 - val_loss: 2.0286 - val_accuracy: 0.4929\n",
            "\n",
            "Epoch 00084: val_loss did not improve from 2.00476\n"
          ],
          "name": "stdout"
        }
      ]
    },
    {
      "cell_type": "code",
      "metadata": {
        "id": "sHuJA-TjRzEV",
        "colab_type": "code",
        "colab": {}
      },
      "source": [
        "del model"
      ],
      "execution_count": null,
      "outputs": []
    },
    {
      "cell_type": "code",
      "metadata": {
        "id": "y7gN0DLRL-Fs",
        "colab_type": "code",
        "colab": {
          "base_uri": "https://localhost:8080/",
          "height": 73
        },
        "outputId": "008a0066-0303-4d91-931d-0aec27d8a627"
      },
      "source": [
        "from keras.models import load_model\n",
        "model = load_model('model/cifar-100-064-2.0048.hdf5')"
      ],
      "execution_count": 94,
      "outputs": [
        {
          "output_type": "stream",
          "text": [
            "/usr/local/lib/python3.6/dist-packages/keras/engine/saving.py:341: UserWarning: No training configuration found in save file: the model was *not* compiled. Compile it manually.\n",
            "  warnings.warn('No training configuration found in save file: '\n"
          ],
          "name": "stderr"
        }
      ]
    },
    {
      "cell_type": "code",
      "metadata": {
        "id": "Yk4b_P-BL-Kp",
        "colab_type": "code",
        "colab": {}
      },
      "source": [
        "model.compile(loss='categorical_crossentropy', \n",
        "              optimizer=opt, metrics=['accuracy'])"
      ],
      "execution_count": 95,
      "outputs": []
    },
    {
      "cell_type": "code",
      "metadata": {
        "id": "-Cob3AdrL-NZ",
        "colab_type": "code",
        "colab": {
          "base_uri": "https://localhost:8080/",
          "height": 71
        },
        "outputId": "6f0d34b7-9366-4975-ac22-537059637292"
      },
      "source": [
        "# 테스트 정확도 출력 \n",
        "print(\"\\n Test Accuracy: %.4f\" % (model.evaluate(X_test, Y_test)[1]))"
      ],
      "execution_count": 96,
      "outputs": [
        {
          "output_type": "stream",
          "text": [
            "10000/10000 [==============================] - 2s 160us/step\n",
            "\n",
            " Test Accuracy: 0.4860\n"
          ],
          "name": "stdout"
        }
      ]
    },
    {
      "cell_type": "markdown",
      "metadata": {
        "id": "XrL5eZyPMG2P",
        "colab_type": "text"
      },
      "source": [
        "#### 결과 그래프로 확인하기"
      ]
    },
    {
      "cell_type": "code",
      "metadata": {
        "id": "BPSiyAVnL-QD",
        "colab_type": "code",
        "colab": {}
      },
      "source": [
        "\n",
        "# 테스트셋\n",
        "y_vloss = history.history['val_loss']\n",
        "y_vacc = history.history['val_accuracy']\n",
        "# 학습셋\n",
        "y_loss = history.history['loss']\n",
        "y_acc = history.history['accuracy']"
      ],
      "execution_count": 97,
      "outputs": []
    },
    {
      "cell_type": "code",
      "metadata": {
        "id": "jW2yTHymL-Sj",
        "colab_type": "code",
        "colab": {
          "base_uri": "https://localhost:8080/",
          "height": 500
        },
        "outputId": "a013b5c8-74ef-4938-a073-3d7ad1e4aa5f"
      },
      "source": [
        "\n",
        "# 그래프로 표현\n",
        "x_len = np.arange(1, len(y_loss)+1)\n",
        "fig, ax0 = plt.subplots(figsize=(10,8))\n",
        "ax1 = ax0.twinx()\n",
        "ax0.plot(x_len, y_loss, c=\"blue\", label='Trainset_loss')\n",
        "ax0.plot(x_len, y_vloss, c=\"red\", label='Testset_loss')\n",
        "ax0.set_ylabel('loss')\n",
        "ax1.plot(x_len, y_acc, c=\"darkgreen\", label='Trainset_acc')\n",
        "ax1.plot(x_len, y_vacc, c=\"magenta\", label='Testset_acc')\n",
        "ax1.set_ylabel('accuracy')\n",
        "ax0.set_xlabel('epoch')\n",
        "ax0.legend(loc='upper center')\n",
        "ax1.legend(loc='lower center')\n",
        "plt.show()"
      ],
      "execution_count": 98,
      "outputs": [
        {
          "output_type": "display_data",
          "data": {
            "image/png": "[encoded data removed]",
            "text/plain": [
              "<Figure size 720x576 with 2 Axes>"
            ]
          },
          "metadata": {
            "tags": [],
            "needs_background": "light"
          }
        }
      ]
    },
    {
      "cell_type": "code",
      "metadata": {
        "id": "Z-QQKKGoL-VW",
        "colab_type": "code",
        "colab": {
          "base_uri": "https://localhost:8080/",
          "height": 935
        },
        "outputId": "8f61292b-31c3-4121-c81b-5f41673f74ed"
      },
      "source": [
        "\n",
        "!ls -l model"
      ],
      "execution_count": 99,
      "outputs": [
        {
          "output_type": "stream",
          "text": [
            "total 235200\n",
            "-rw-r--r-- 1 root root 4813248 Jul  7 07:36 cifar-100-001-3.9869.hdf5\n",
            "-rw-r--r-- 1 root root 4813248 Jul  7 07:36 cifar-100-002-3.6384.hdf5\n",
            "-rw-r--r-- 1 root root 4813248 Jul  7 07:36 cifar-100-003-3.4253.hdf5\n",
            "-rw-r--r-- 1 root root 4813248 Jul  7 07:36 cifar-100-004-3.2973.hdf5\n",
            "-rw-r--r-- 1 root root 4813248 Jul  7 07:36 cifar-100-005-3.1571.hdf5\n",
            "-rw-r--r-- 1 root root 4813248 Jul  7 07:37 cifar-100-006-3.0468.hdf5\n",
            "-rw-r--r-- 1 root root 4813248 Jul  7 07:37 cifar-100-007-2.9576.hdf5\n",
            "-rw-r--r-- 1 root root 4813248 Jul  7 07:37 cifar-100-008-2.8848.hdf5\n",
            "-rw-r--r-- 1 root root 4813248 Jul  7 07:37 cifar-100-009-2.8229.hdf5\n",
            "-rw-r--r-- 1 root root 4813248 Jul  7 07:37 cifar-100-010-2.7477.hdf5\n",
            "-rw-r--r-- 1 root root 4813248 Jul  7 07:38 cifar-100-011-2.7050.hdf5\n",
            "-rw-r--r-- 1 root root 4813248 Jul  7 07:38 cifar-100-012-2.6719.hdf5\n",
            "-rw-r--r-- 1 root root 4813248 Jul  7 07:38 cifar-100-013-2.6069.hdf5\n",
            "-rw-r--r-- 1 root root 4813248 Jul  7 07:38 cifar-100-014-2.5621.hdf5\n",
            "-rw-r--r-- 1 root root 4813248 Jul  7 07:38 cifar-100-015-2.5285.hdf5\n",
            "-rw-r--r-- 1 root root 4813248 Jul  7 07:39 cifar-100-016-2.5128.hdf5\n",
            "-rw-r--r-- 1 root root 4813248 Jul  7 07:39 cifar-100-017-2.4680.hdf5\n",
            "-rw-r--r-- 1 root root 4813248 Jul  7 07:39 cifar-100-018-2.4436.hdf5\n",
            "-rw-r--r-- 1 root root 4813248 Jul  7 07:39 cifar-100-019-2.4319.hdf5\n",
            "-rw-r--r-- 1 root root 4813248 Jul  7 07:39 cifar-100-020-2.3766.hdf5\n",
            "-rw-r--r-- 1 root root 4813248 Jul  7 07:40 cifar-100-021-2.3669.hdf5\n",
            "-rw-r--r-- 1 root root 4813248 Jul  7 07:40 cifar-100-022-2.3254.hdf5\n",
            "-rw-r--r-- 1 root root 4813248 Jul  7 07:40 cifar-100-024-2.2951.hdf5\n",
            "-rw-r--r-- 1 root root 4813248 Jul  7 07:40 cifar-100-025-2.2852.hdf5\n",
            "-rw-r--r-- 1 root root 4813248 Jul  7 07:41 cifar-100-026-2.2542.hdf5\n",
            "-rw-r--r-- 1 root root 4813248 Jul  7 07:41 cifar-100-027-2.2449.hdf5\n",
            "-rw-r--r-- 1 root root 4813248 Jul  7 07:41 cifar-100-028-2.2249.hdf5\n",
            "-rw-r--r-- 1 root root 4813248 Jul  7 07:41 cifar-100-029-2.2024.hdf5\n",
            "-rw-r--r-- 1 root root 4813248 Jul  7 07:41 cifar-100-030-2.1932.hdf5\n",
            "-rw-r--r-- 1 root root 4813248 Jul  7 07:42 cifar-100-031-2.1912.hdf5\n",
            "-rw-r--r-- 1 root root 4813248 Jul  7 07:42 cifar-100-032-2.1779.hdf5\n",
            "-rw-r--r-- 1 root root 4813248 Jul  7 07:42 cifar-100-033-2.1617.hdf5\n",
            "-rw-r--r-- 1 root root 4813248 Jul  7 07:42 cifar-100-034-2.1486.hdf5\n",
            "-rw-r--r-- 1 root root 4813248 Jul  7 07:43 cifar-100-036-2.1331.hdf5\n",
            "-rw-r--r-- 1 root root 4813248 Jul  7 07:43 cifar-100-037-2.1313.hdf5\n",
            "-rw-r--r-- 1 root root 4813248 Jul  7 07:43 cifar-100-038-2.1099.hdf5\n",
            "-rw-r--r-- 1 root root 4813248 Jul  7 07:43 cifar-100-039-2.1074.hdf5\n",
            "-rw-r--r-- 1 root root 4813248 Jul  7 07:44 cifar-100-041-2.0931.hdf5\n",
            "-rw-r--r-- 1 root root 4813248 Jul  7 07:44 cifar-100-042-2.0827.hdf5\n",
            "-rw-r--r-- 1 root root 4813248 Jul  7 07:44 cifar-100-044-2.0702.hdf5\n",
            "-rw-r--r-- 1 root root 4813248 Jul  7 07:45 cifar-100-046-2.0555.hdf5\n",
            "-rw-r--r-- 1 root root 4813248 Jul  7 07:45 cifar-100-049-2.0508.hdf5\n",
            "-rw-r--r-- 1 root root 4813248 Jul  7 07:45 cifar-100-050-2.0384.hdf5\n",
            "-rw-r--r-- 1 root root 4813248 Jul  7 07:46 cifar-100-052-2.0382.hdf5\n",
            "-rw-r--r-- 1 root root 4813248 Jul  7 07:46 cifar-100-053-2.0332.hdf5\n",
            "-rw-r--r-- 1 root root 4813248 Jul  7 07:46 cifar-100-054-2.0230.hdf5\n",
            "-rw-r--r-- 1 root root 4813248 Jul  7 07:47 cifar-100-058-2.0220.hdf5\n",
            "-rw-r--r-- 1 root root 4813248 Jul  7 07:47 cifar-100-059-2.0158.hdf5\n",
            "-rw-r--r-- 1 root root 4813248 Jul  7 07:47 cifar-100-060-2.0127.hdf5\n",
            "-rw-r--r-- 1 root root 4813248 Jul  7 07:48 cifar-100-064-2.0048.hdf5\n"
          ],
          "name": "stdout"
        }
      ]
    },
    {
      "cell_type": "code",
      "metadata": {
        "id": "c1EfweHpL-Xa",
        "colab_type": "code",
        "colab": {}
      },
      "source": [
        ""
      ],
      "execution_count": null,
      "outputs": []
    }
  ]
}