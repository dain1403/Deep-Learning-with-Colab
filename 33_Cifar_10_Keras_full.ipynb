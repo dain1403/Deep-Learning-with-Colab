{
  "nbformat": 4,
  "nbformat_minor": 0,
  "metadata": {
    "colab": {
      "name": "33_Cifar-10_Keras-full.ipynb",
      "provenance": [],
      "authorship_tag": "ABX9TyOvViOJ/1+8qqezRmkH406o",
      "include_colab_link": true
    },
    "kernelspec": {
      "name": "python3",
      "display_name": "Python 3"
    },
    "accelerator": "GPU"
  },
  "cells": [
    {
      "cell_type": "markdown",
      "metadata": {
        "id": "view-in-github",
        "colab_type": "text"
      },
      "source": [
        "<a href=\"https://colab.research.google.com/github/dain1403/Deep-Learning-with-Colab/blob/master/33_Cifar_10_Keras_full.ipynb\" target=\"_parent\"><img src=\"https://colab.research.google.com/assets/colab-badge.svg\" alt=\"Open In Colab\"/></a>"
      ]
    },
    {
      "cell_type": "code",
      "metadata": {
        "id": "43uTjb4K8Z9h",
        "colab_type": "code",
        "colab": {}
      },
      "source": [
        "import tensorflow as tf\n",
        "from tensorflow.keras.datasets import cifar10\n",
        "from tensorflow.keras.models import Sequential\n",
        "from tensorflow.keras.layers import Conv2D, MaxPooling2D, Flatten, Dense, Dropout\n",
        "from tensorflow.keras.layers import Activation, BatchNormalization\n",
        "from tensorflow.keras.regularizers import l2\n",
        "import numpy as np"
      ],
      "execution_count": null,
      "outputs": []
    },
    {
      "cell_type": "markdown",
      "metadata": {
        "id": "EptDvPBN8gmA",
        "colab_type": "text"
      },
      "source": [
        "#### 자료형 변환 및 스케일링\n",
        "- X: 실수형으로 정규화\n",
        "- Y: 1-hot encoding\n",
        "    * airplane, automobile, bird, cat, deer, dog, frog, horse, ship, truck"
      ]
    },
    {
      "cell_type": "code",
      "metadata": {
        "id": "U8fN743T8dsi",
        "colab_type": "code",
        "colab": {
          "base_uri": "https://localhost:8080/",
          "height": 89
        },
        "outputId": "ce41a3ca-4b11-4416-cde7-92aac9fec26e"
      },
      "source": [
        "(X_train, y_train0), (X_test, y_test0) = cifar10.load_data()\n",
        "print(X_train.shape, X_train.dtype)\n",
        "print(y_train0.shape, y_train0.dtype)\n",
        "print(X_test.shape, X_test.dtype)\n",
        "print(y_test0.shape, y_test0.dtype)"
      ],
      "execution_count": null,
      "outputs": [
        {
          "output_type": "stream",
          "text": [
            "(50000, 32, 32, 3) uint8\n",
            "(50000, 1) uint8\n",
            "(10000, 32, 32, 3) uint8\n",
            "(10000, 1) uint8\n"
          ],
          "name": "stdout"
        }
      ]
    },
    {
      "cell_type": "code",
      "metadata": {
        "id": "JNnlaNBF8eON",
        "colab_type": "code",
        "colab": {
          "base_uri": "https://localhost:8080/",
          "height": 35
        },
        "outputId": "b493f249-a729-416b-adee-c90d3f584ebe"
      },
      "source": [
        "X_train = X_train.astype('float32')/255.0\n",
        "X_test = X_test.astype('float32')/255.0\n",
        "\n",
        "print(X_train.shape, X_train.dtype)"
      ],
      "execution_count": null,
      "outputs": [
        {
          "output_type": "stream",
          "text": [
            "(50000, 32, 32, 3) float32\n"
          ],
          "name": "stdout"
        }
      ]
    },
    {
      "cell_type": "code",
      "metadata": {
        "id": "RStvohJY8eRz",
        "colab_type": "code",
        "colab": {
          "base_uri": "https://localhost:8080/",
          "height": 89
        },
        "outputId": "e9d8b614-c7c8-4054-b835-bcf0a1c488df"
      },
      "source": [
        "Y_train = tf.keras.utils.to_categorical(y_train0, 10)\n",
        "Y_test = tf.keras.utils.to_categorical(y_test0, 10)\n",
        "Y_train[:4]"
      ],
      "execution_count": null,
      "outputs": [
        {
          "output_type": "execute_result",
          "data": {
            "text/plain": [
              "array([[0., 0., 0., 0., 0., 0., 1., 0., 0., 0.],\n",
              "       [0., 0., 0., 0., 0., 0., 0., 0., 0., 1.],\n",
              "       [0., 0., 0., 0., 0., 0., 0., 0., 0., 1.],\n",
              "       [0., 0., 0., 0., 1., 0., 0., 0., 0., 0.]], dtype=float32)"
            ]
          },
          "metadata": {
            "tags": []
          },
          "execution_count": 4
        }
      ]
    },
    {
      "cell_type": "markdown",
      "metadata": {
        "id": "Et3_K2_78kAJ",
        "colab_type": "text"
      },
      "source": [
        "#### 모형 구현"
      ]
    },
    {
      "cell_type": "code",
      "metadata": {
        "id": "BmlIzA4G8eUp",
        "colab_type": "code",
        "colab": {}
      },
      "source": [
        "np.random.seed(0)\n",
        "weight_decay = 1e-4"
      ],
      "execution_count": null,
      "outputs": []
    },
    {
      "cell_type": "code",
      "metadata": {
        "id": "FquIhOdP8eXb",
        "colab_type": "code",
        "colab": {
          "base_uri": "https://localhost:8080/",
          "height": 1000
        },
        "outputId": "5c445131-a226-49eb-b53e-5ba6117dce59"
      },
      "source": [
        "model = Sequential()\n",
        "\n",
        "model.add(Conv2D(32, (3,3), padding='same', kernel_regularizer=l2(weight_decay), \n",
        "                 input_shape=X_train.shape[1:]))\n",
        "model.add(Activation('elu'))\n",
        "model.add(BatchNormalization())\n",
        "model.add(Conv2D(32, (3,3), padding='same', kernel_regularizer=l2(weight_decay)))\n",
        "model.add(Activation('elu'))\n",
        "model.add(BatchNormalization())\n",
        "model.add(MaxPooling2D(pool_size=(2,2)))\n",
        "model.add(Dropout(0.2))\n",
        " \n",
        "model.add(Conv2D(64, (3,3), padding='same', kernel_regularizer=l2(weight_decay)))\n",
        "model.add(Activation('elu'))\n",
        "model.add(BatchNormalization())\n",
        "model.add(Conv2D(64, (3,3), padding='same', kernel_regularizer=l2(weight_decay)))\n",
        "model.add(Activation('elu'))\n",
        "model.add(BatchNormalization())\n",
        "model.add(MaxPooling2D(pool_size=(2,2)))\n",
        "model.add(Dropout(0.3))\n",
        " \n",
        "model.add(Conv2D(128, (3,3), padding='same', kernel_regularizer=l2(weight_decay)))\n",
        "model.add(Activation('elu'))\n",
        "model.add(BatchNormalization())\n",
        "model.add(Conv2D(128, (3,3), padding='same', kernel_regularizer=l2(weight_decay)))\n",
        "model.add(Activation('elu'))\n",
        "model.add(BatchNormalization())\n",
        "model.add(MaxPooling2D(pool_size=(2,2)))\n",
        "model.add(Dropout(0.4))\n",
        " \n",
        "model.add(Flatten())\n",
        "model.add(Dense(10, activation='softmax'))\n",
        "\n",
        "model.summary()"
      ],
      "execution_count": null,
      "outputs": [
        {
          "output_type": "stream",
          "text": [
            "Model: \"sequential\"\n",
            "_________________________________________________________________\n",
            "Layer (type)                 Output Shape              Param #   \n",
            "=================================================================\n",
            "conv2d (Conv2D)              (None, 32, 32, 32)        896       \n",
            "_________________________________________________________________\n",
            "activation (Activation)      (None, 32, 32, 32)        0         \n",
            "_________________________________________________________________\n",
            "batch_normalization (BatchNo (None, 32, 32, 32)        128       \n",
            "_________________________________________________________________\n",
            "conv2d_1 (Conv2D)            (None, 32, 32, 32)        9248      \n",
            "_________________________________________________________________\n",
            "activation_1 (Activation)    (None, 32, 32, 32)        0         \n",
            "_________________________________________________________________\n",
            "batch_normalization_1 (Batch (None, 32, 32, 32)        128       \n",
            "_________________________________________________________________\n",
            "max_pooling2d (MaxPooling2D) (None, 16, 16, 32)        0         \n",
            "_________________________________________________________________\n",
            "dropout (Dropout)            (None, 16, 16, 32)        0         \n",
            "_________________________________________________________________\n",
            "conv2d_2 (Conv2D)            (None, 16, 16, 64)        18496     \n",
            "_________________________________________________________________\n",
            "activation_2 (Activation)    (None, 16, 16, 64)        0         \n",
            "_________________________________________________________________\n",
            "batch_normalization_2 (Batch (None, 16, 16, 64)        256       \n",
            "_________________________________________________________________\n",
            "conv2d_3 (Conv2D)            (None, 16, 16, 64)        36928     \n",
            "_________________________________________________________________\n",
            "activation_3 (Activation)    (None, 16, 16, 64)        0         \n",
            "_________________________________________________________________\n",
            "batch_normalization_3 (Batch (None, 16, 16, 64)        256       \n",
            "_________________________________________________________________\n",
            "max_pooling2d_1 (MaxPooling2 (None, 8, 8, 64)          0         \n",
            "_________________________________________________________________\n",
            "dropout_1 (Dropout)          (None, 8, 8, 64)          0         \n",
            "_________________________________________________________________\n",
            "conv2d_4 (Conv2D)            (None, 8, 8, 128)         73856     \n",
            "_________________________________________________________________\n",
            "activation_4 (Activation)    (None, 8, 8, 128)         0         \n",
            "_________________________________________________________________\n",
            "batch_normalization_4 (Batch (None, 8, 8, 128)         512       \n",
            "_________________________________________________________________\n",
            "conv2d_5 (Conv2D)            (None, 8, 8, 128)         147584    \n",
            "_________________________________________________________________\n",
            "activation_5 (Activation)    (None, 8, 8, 128)         0         \n",
            "_________________________________________________________________\n",
            "batch_normalization_5 (Batch (None, 8, 8, 128)         512       \n",
            "_________________________________________________________________\n",
            "max_pooling2d_2 (MaxPooling2 (None, 4, 4, 128)         0         \n",
            "_________________________________________________________________\n",
            "dropout_2 (Dropout)          (None, 4, 4, 128)         0         \n",
            "_________________________________________________________________\n",
            "flatten (Flatten)            (None, 2048)              0         \n",
            "_________________________________________________________________\n",
            "dense (Dense)                (None, 10)                20490     \n",
            "=================================================================\n",
            "Total params: 309,290\n",
            "Trainable params: 308,394\n",
            "Non-trainable params: 896\n",
            "_________________________________________________________________\n"
          ],
          "name": "stdout"
        }
      ]
    },
    {
      "cell_type": "code",
      "metadata": {
        "id": "Xp2lMWi98eaQ",
        "colab_type": "code",
        "colab": {}
      },
      "source": [
        "from tensorflow.keras.optimizers import RMSprop\n",
        "\n",
        "model.compile(loss='categorical_crossentropy', \n",
        "              optimizer=RMSprop(lr=0.001, decay=weight_decay), \n",
        "              metrics=['accuracy'])"
      ],
      "execution_count": null,
      "outputs": []
    },
    {
      "cell_type": "code",
      "metadata": {
        "id": "N7VmOLxW8edB",
        "colab_type": "code",
        "colab": {}
      },
      "source": [
        "def lr_schedule(epoch):\n",
        "    lrate = 0.001\n",
        "    if epoch > 30:\n",
        "        lrate = 0.0005\n",
        "    if epoch > 40:\n",
        "        lrate = 0.0003\n",
        "    return lrate"
      ],
      "execution_count": null,
      "outputs": []
    },
    {
      "cell_type": "code",
      "metadata": {
        "id": "1Wv1batR8ef4",
        "colab_type": "code",
        "colab": {}
      },
      "source": [
        "#data augmentation\n",
        "from tensorflow.keras.preprocessing.image import ImageDataGenerator\n",
        "\n",
        "datagen = ImageDataGenerator(\n",
        "    rotation_range=15,\n",
        "    width_shift_range=0.1,\n",
        "    height_shift_range=0.1,\n",
        "    horizontal_flip=True,\n",
        ")\n",
        "datagen.fit(X_train)"
      ],
      "execution_count": null,
      "outputs": []
    },
    {
      "cell_type": "code",
      "metadata": {
        "id": "YUkMwX-W8eiz",
        "colab_type": "code",
        "colab": {
          "base_uri": "https://localhost:8080/",
          "height": 1000
        },
        "outputId": "268f6b67-8800-4a0a-cb7b-932f5f058250"
      },
      "source": [
        "from tensorflow.keras.callbacks import LearningRateScheduler\n",
        "\n",
        "history = model.fit_generator(datagen.flow(X_train, Y_train, batch_size=64),\n",
        "                    steps_per_epoch=X_train.shape[0] // 64, epochs=50,\n",
        "                    verbose=2, validation_data=(X_test, Y_test),\n",
        "                    callbacks=[LearningRateScheduler(lr_schedule)])"
      ],
      "execution_count": null,
      "outputs": [
        {
          "output_type": "stream",
          "text": [
            "WARNING:tensorflow:From <ipython-input-10-a4771c53dd20>:6: Model.fit_generator (from tensorflow.python.keras.engine.training) is deprecated and will be removed in a future version.\n",
            "Instructions for updating:\n",
            "Please use Model.fit, which supports generators.\n",
            "Epoch 1/50\n",
            "781/781 - 23s - loss: 1.9281 - accuracy: 0.4193 - val_loss: 1.2871 - val_accuracy: 0.5772 - lr: 0.0010\n",
            "Epoch 2/50\n",
            "781/781 - 23s - loss: 1.3111 - accuracy: 0.5816 - val_loss: 1.0588 - val_accuracy: 0.6678 - lr: 0.0010\n",
            "Epoch 3/50\n",
            "781/781 - 23s - loss: 1.0972 - accuracy: 0.6478 - val_loss: 1.1228 - val_accuracy: 0.6648 - lr: 0.0010\n",
            "Epoch 4/50\n",
            "781/781 - 23s - loss: 0.9890 - accuracy: 0.6851 - val_loss: 0.9208 - val_accuracy: 0.7210 - lr: 0.0010\n",
            "Epoch 5/50\n",
            "781/781 - 22s - loss: 0.9159 - accuracy: 0.7131 - val_loss: 0.8879 - val_accuracy: 0.7302 - lr: 0.0010\n",
            "Epoch 6/50\n",
            "781/781 - 23s - loss: 0.8615 - accuracy: 0.7299 - val_loss: 0.8758 - val_accuracy: 0.7344 - lr: 0.0010\n",
            "Epoch 7/50\n",
            "781/781 - 23s - loss: 0.8231 - accuracy: 0.7473 - val_loss: 0.7926 - val_accuracy: 0.7690 - lr: 0.0010\n",
            "Epoch 8/50\n",
            "781/781 - 22s - loss: 0.7838 - accuracy: 0.7601 - val_loss: 0.7925 - val_accuracy: 0.7685 - lr: 0.0010\n",
            "Epoch 9/50\n",
            "781/781 - 22s - loss: 0.7602 - accuracy: 0.7691 - val_loss: 0.7083 - val_accuracy: 0.7937 - lr: 0.0010\n",
            "Epoch 10/50\n",
            "781/781 - 22s - loss: 0.7386 - accuracy: 0.7763 - val_loss: 0.7526 - val_accuracy: 0.7810 - lr: 0.0010\n",
            "Epoch 11/50\n",
            "781/781 - 22s - loss: 0.7153 - accuracy: 0.7851 - val_loss: 0.6646 - val_accuracy: 0.8098 - lr: 0.0010\n",
            "Epoch 12/50\n",
            "781/781 - 22s - loss: 0.6954 - accuracy: 0.7919 - val_loss: 0.6899 - val_accuracy: 0.7996 - lr: 0.0010\n",
            "Epoch 13/50\n",
            "781/781 - 22s - loss: 0.6871 - accuracy: 0.7949 - val_loss: 0.6463 - val_accuracy: 0.8122 - lr: 0.0010\n",
            "Epoch 14/50\n",
            "781/781 - 22s - loss: 0.6717 - accuracy: 0.8023 - val_loss: 0.6417 - val_accuracy: 0.8194 - lr: 0.0010\n",
            "Epoch 15/50\n",
            "781/781 - 22s - loss: 0.6570 - accuracy: 0.8054 - val_loss: 0.6523 - val_accuracy: 0.8184 - lr: 0.0010\n",
            "Epoch 16/50\n",
            "781/781 - 22s - loss: 0.6442 - accuracy: 0.8093 - val_loss: 0.6867 - val_accuracy: 0.8001 - lr: 0.0010\n",
            "Epoch 17/50\n",
            "781/781 - 22s - loss: 0.6313 - accuracy: 0.8155 - val_loss: 0.6537 - val_accuracy: 0.8154 - lr: 0.0010\n",
            "Epoch 18/50\n",
            "781/781 - 22s - loss: 0.6212 - accuracy: 0.8174 - val_loss: 0.6260 - val_accuracy: 0.8247 - lr: 0.0010\n",
            "Epoch 19/50\n",
            "781/781 - 22s - loss: 0.6144 - accuracy: 0.8202 - val_loss: 0.6154 - val_accuracy: 0.8277 - lr: 0.0010\n",
            "Epoch 20/50\n",
            "781/781 - 22s - loss: 0.6027 - accuracy: 0.8247 - val_loss: 0.6396 - val_accuracy: 0.8209 - lr: 0.0010\n",
            "Epoch 21/50\n",
            "781/781 - 22s - loss: 0.5970 - accuracy: 0.8270 - val_loss: 0.6241 - val_accuracy: 0.8282 - lr: 0.0010\n",
            "Epoch 22/50\n",
            "781/781 - 22s - loss: 0.5905 - accuracy: 0.8270 - val_loss: 0.6047 - val_accuracy: 0.8314 - lr: 0.0010\n",
            "Epoch 23/50\n",
            "781/781 - 22s - loss: 0.5839 - accuracy: 0.8295 - val_loss: 0.5931 - val_accuracy: 0.8370 - lr: 0.0010\n",
            "Epoch 24/50\n",
            "781/781 - 22s - loss: 0.5752 - accuracy: 0.8329 - val_loss: 0.5639 - val_accuracy: 0.8387 - lr: 0.0010\n",
            "Epoch 25/50\n",
            "781/781 - 22s - loss: 0.5642 - accuracy: 0.8372 - val_loss: 0.5621 - val_accuracy: 0.8425 - lr: 0.0010\n",
            "Epoch 26/50\n",
            "781/781 - 22s - loss: 0.5585 - accuracy: 0.8386 - val_loss: 0.5995 - val_accuracy: 0.8357 - lr: 0.0010\n",
            "Epoch 27/50\n",
            "781/781 - 22s - loss: 0.5575 - accuracy: 0.8397 - val_loss: 0.5531 - val_accuracy: 0.8465 - lr: 0.0010\n",
            "Epoch 28/50\n",
            "781/781 - 22s - loss: 0.5562 - accuracy: 0.8405 - val_loss: 0.5564 - val_accuracy: 0.8440 - lr: 0.0010\n",
            "Epoch 29/50\n",
            "781/781 - 22s - loss: 0.5433 - accuracy: 0.8427 - val_loss: 0.5167 - val_accuracy: 0.8560 - lr: 0.0010\n",
            "Epoch 30/50\n",
            "781/781 - 22s - loss: 0.5445 - accuracy: 0.8428 - val_loss: 0.5194 - val_accuracy: 0.8573 - lr: 0.0010\n",
            "Epoch 31/50\n",
            "781/781 - 22s - loss: 0.5314 - accuracy: 0.8484 - val_loss: 0.5322 - val_accuracy: 0.8521 - lr: 0.0010\n",
            "Epoch 32/50\n",
            "781/781 - 22s - loss: 0.5076 - accuracy: 0.8549 - val_loss: 0.5076 - val_accuracy: 0.8603 - lr: 5.0000e-04\n",
            "Epoch 33/50\n",
            "781/781 - 22s - loss: 0.5083 - accuracy: 0.8559 - val_loss: 0.5264 - val_accuracy: 0.8547 - lr: 5.0000e-04\n",
            "Epoch 34/50\n",
            "781/781 - 22s - loss: 0.4971 - accuracy: 0.8583 - val_loss: 0.5011 - val_accuracy: 0.8625 - lr: 5.0000e-04\n",
            "Epoch 35/50\n",
            "781/781 - 22s - loss: 0.5005 - accuracy: 0.8557 - val_loss: 0.4899 - val_accuracy: 0.8660 - lr: 5.0000e-04\n",
            "Epoch 36/50\n",
            "781/781 - 22s - loss: 0.4928 - accuracy: 0.8593 - val_loss: 0.4928 - val_accuracy: 0.8653 - lr: 5.0000e-04\n",
            "Epoch 37/50\n",
            "781/781 - 22s - loss: 0.4841 - accuracy: 0.8612 - val_loss: 0.4892 - val_accuracy: 0.8646 - lr: 5.0000e-04\n",
            "Epoch 38/50\n",
            "781/781 - 22s - loss: 0.4882 - accuracy: 0.8597 - val_loss: 0.5235 - val_accuracy: 0.8544 - lr: 5.0000e-04\n",
            "Epoch 39/50\n",
            "781/781 - 22s - loss: 0.4810 - accuracy: 0.8630 - val_loss: 0.4771 - val_accuracy: 0.8712 - lr: 5.0000e-04\n",
            "Epoch 40/50\n",
            "781/781 - 22s - loss: 0.4749 - accuracy: 0.8641 - val_loss: 0.5132 - val_accuracy: 0.8630 - lr: 5.0000e-04\n",
            "Epoch 41/50\n",
            "781/781 - 22s - loss: 0.4725 - accuracy: 0.8664 - val_loss: 0.5125 - val_accuracy: 0.8614 - lr: 5.0000e-04\n",
            "Epoch 42/50\n",
            "781/781 - 22s - loss: 0.4655 - accuracy: 0.8675 - val_loss: 0.4898 - val_accuracy: 0.8667 - lr: 3.0000e-04\n",
            "Epoch 43/50\n",
            "781/781 - 22s - loss: 0.4594 - accuracy: 0.8703 - val_loss: 0.4972 - val_accuracy: 0.8637 - lr: 3.0000e-04\n",
            "Epoch 44/50\n",
            "781/781 - 22s - loss: 0.4599 - accuracy: 0.8687 - val_loss: 0.4835 - val_accuracy: 0.8644 - lr: 3.0000e-04\n",
            "Epoch 45/50\n",
            "781/781 - 22s - loss: 0.4568 - accuracy: 0.8698 - val_loss: 0.4801 - val_accuracy: 0.8683 - lr: 3.0000e-04\n",
            "Epoch 46/50\n",
            "781/781 - 22s - loss: 0.4560 - accuracy: 0.8711 - val_loss: 0.4853 - val_accuracy: 0.8671 - lr: 3.0000e-04\n",
            "Epoch 47/50\n",
            "781/781 - 22s - loss: 0.4536 - accuracy: 0.8731 - val_loss: 0.4780 - val_accuracy: 0.8686 - lr: 3.0000e-04\n",
            "Epoch 48/50\n",
            "781/781 - 22s - loss: 0.4487 - accuracy: 0.8742 - val_loss: 0.4732 - val_accuracy: 0.8693 - lr: 3.0000e-04\n",
            "Epoch 49/50\n",
            "781/781 - 22s - loss: 0.4506 - accuracy: 0.8712 - val_loss: 0.4882 - val_accuracy: 0.8676 - lr: 3.0000e-04\n",
            "Epoch 50/50\n",
            "781/781 - 22s - loss: 0.4519 - accuracy: 0.8714 - val_loss: 0.4679 - val_accuracy: 0.8719 - lr: 3.0000e-04\n"
          ],
          "name": "stdout"
        }
      ]
    },
    {
      "cell_type": "markdown",
      "metadata": {
        "id": "FG0uQ7Hv8qAH",
        "colab_type": "text"
      },
      "source": [
        "##### 모델 평가하기"
      ]
    },
    {
      "cell_type": "code",
      "metadata": {
        "id": "I4Kt5h_Q8eli",
        "colab_type": "code",
        "colab": {
          "base_uri": "https://localhost:8080/",
          "height": 71
        },
        "outputId": "e2f8a063-fc4f-4386-9216-17904c818cfd"
      },
      "source": [
        "scores = model.evaluate(X_test, Y_test, batch_size=128, verbose=2)\n",
        "print('\\nAccuracy: %.4f' % scores[1])"
      ],
      "execution_count": null,
      "outputs": [
        {
          "output_type": "stream",
          "text": [
            "79/79 - 0s - loss: 0.4679 - accuracy: 0.8719\n",
            "\n",
            "Accuracy: 0.8719\n"
          ],
          "name": "stdout"
        }
      ]
    },
    {
      "cell_type": "markdown",
      "metadata": {
        "id": "XiP-ufAh8uqv",
        "colab_type": "text"
      },
      "source": [
        "###### 모델 저장하기"
      ]
    },
    {
      "cell_type": "code",
      "metadata": {
        "id": "Lxq8RY2G8et8",
        "colab_type": "code",
        "colab": {}
      },
      "source": [
        ""
      ],
      "execution_count": null,
      "outputs": []
    },
    {
      "cell_type": "code",
      "metadata": {
        "id": "7aKSAKk48exJ",
        "colab_type": "code",
        "colab": {}
      },
      "source": [
        ""
      ],
      "execution_count": null,
      "outputs": []
    },
    {
      "cell_type": "code",
      "metadata": {
        "id": "LXfsbcnB8e0A",
        "colab_type": "code",
        "colab": {}
      },
      "source": [
        ""
      ],
      "execution_count": null,
      "outputs": []
    },
    {
      "cell_type": "code",
      "metadata": {
        "id": "MB75bElX8e2g",
        "colab_type": "code",
        "colab": {}
      },
      "source": [
        ""
      ],
      "execution_count": null,
      "outputs": []
    },
    {
      "cell_type": "code",
      "metadata": {
        "id": "KHvI6OP58e5i",
        "colab_type": "code",
        "colab": {}
      },
      "source": [
        ""
      ],
      "execution_count": null,
      "outputs": []
    }
  ]
}