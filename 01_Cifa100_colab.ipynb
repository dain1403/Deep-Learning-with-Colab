{
  "nbformat": 4,
  "nbformat_minor": 0,
  "metadata": {
    "colab": {
      "name": "01.Cifa100_colab.ipynb",
      "provenance": [],
      "authorship_tag": "ABX9TyPMUE07ZPqMFy5OcFv5ZUaE",
      "include_colab_link": true
    },
    "kernelspec": {
      "name": "python3",
      "display_name": "Python 3"
    },
    "accelerator": "GPU"
  },
  "cells": [
    {
      "cell_type": "markdown",
      "metadata": {
        "id": "view-in-github",
        "colab_type": "text"
      },
      "source": [
        "<a href=\"https://colab.research.google.com/github/dain1403/Deep-Learning-with-Colab/blob/master/01_Cifa100_colab.ipynb\" target=\"_parent\"><img src=\"https://colab.research.google.com/assets/colab-badge.svg\" alt=\"Open In Colab\"/></a>"
      ]
    },
    {
      "cell_type": "markdown",
      "metadata": {
        "id": "YUEYKG2VqBbk",
        "colab_type": "text"
      },
      "source": [
        "Cifar-100"
      ]
    },
    {
      "cell_type": "code",
      "metadata": {
        "id": "fgeJWO4Wp1gU",
        "colab_type": "code",
        "colab": {
          "base_uri": "https://localhost:8080/",
          "height": 35
        },
        "outputId": "7275717b-8965-4617-e5bf-f1f6c392a2d8"
      },
      "source": [
        "%tensorflow_version 2.x\n",
        "import tensorflow as tf\n",
        "device_name = tf.test.gpu_device_name()\n",
        "if device_name != '/device:GPU:0':\n",
        "  raise SystemError('GPU device not found')\n",
        "print('Found GPU at: {}'.format(device_name))"
      ],
      "execution_count": null,
      "outputs": [
        {
          "output_type": "stream",
          "text": [
            "Found GPU at: /device:GPU:0\n"
          ],
          "name": "stdout"
        }
      ]
    },
    {
      "cell_type": "code",
      "metadata": {
        "id": "7vjbiBV0qSak",
        "colab_type": "code",
        "colab": {}
      },
      "source": [
        "from tensorflow import keras"
      ],
      "execution_count": null,
      "outputs": []
    },
    {
      "cell_type": "code",
      "metadata": {
        "id": "XbOXsrNsp9O7",
        "colab_type": "code",
        "colab": {}
      },
      "source": [
        "import tensorflow as tf\n",
        "from tensorflow.keras.datasets import cifar100\n",
        "(X_train, y_train), (X_test, y_test) = \\\n",
        "                                cifar100.load_data(label_mode='fine')"
      ],
      "execution_count": null,
      "outputs": []
    },
    {
      "cell_type": "code",
      "metadata": {
        "id": "BnCkAsHNqLEE",
        "colab_type": "code",
        "colab": {
          "base_uri": "https://localhost:8080/",
          "height": 35
        },
        "outputId": "2b571039-41ca-4dc6-9578-2a5a6716db1f"
      },
      "source": [
        "X_train.shape, X_test.shape"
      ],
      "execution_count": null,
      "outputs": [
        {
          "output_type": "execute_result",
          "data": {
            "text/plain": [
              "((50000, 32, 32, 3), (10000, 32, 32, 3))"
            ]
          },
          "metadata": {
            "tags": []
          },
          "execution_count": 4
        }
      ]
    },
    {
      "cell_type": "code",
      "metadata": {
        "id": "gzoWPWNAqMU9",
        "colab_type": "code",
        "colab": {
          "base_uri": "https://localhost:8080/",
          "height": 197
        },
        "outputId": "bc8b61aa-e33e-468c-aefd-acd6be1e427f"
      },
      "source": [
        "y_train[:10]"
      ],
      "execution_count": null,
      "outputs": [
        {
          "output_type": "execute_result",
          "data": {
            "text/plain": [
              "array([[19],\n",
              "       [29],\n",
              "       [ 0],\n",
              "       [11],\n",
              "       [ 1],\n",
              "       [86],\n",
              "       [90],\n",
              "       [28],\n",
              "       [23],\n",
              "       [31]])"
            ]
          },
          "metadata": {
            "tags": []
          },
          "execution_count": 5
        }
      ]
    },
    {
      "cell_type": "markdown",
      "metadata": {
        "id": "PinA4Ptsql6U",
        "colab_type": "text"
      },
      "source": [
        "데이터확인"
      ]
    },
    {
      "cell_type": "code",
      "metadata": {
        "id": "Sqdz6EisqMY4",
        "colab_type": "code",
        "colab": {
          "base_uri": "https://localhost:8080/",
          "height": 124
        },
        "outputId": "73bad2ec-58b8-46a7-cc56-e43065593515"
      },
      "source": [
        "import matplotlib as mpl\n",
        "import matplotlib.pyplot as plt\n",
        "%matplotlib inline\n",
        "\n",
        "plt.subplot(141)\n",
        "plt.imshow(X_train[0], interpolation=\"bicubic\")\n",
        "plt.grid(False)\n",
        "plt.subplot(142)\n",
        "plt.imshow(X_train[4], interpolation=\"bicubic\")\n",
        "plt.grid(False)\n",
        "plt.subplot(143)\n",
        "plt.imshow(X_train[8], interpolation=\"bicubic\")\n",
        "plt.grid(False)\n",
        "plt.subplot(144)\n",
        "plt.imshow(X_train[12], interpolation=\"bicubic\")\n",
        "plt.grid(False)\n",
        "plt.show()"
      ],
      "execution_count": null,
      "outputs": [
        {
          "output_type": "display_data",
          "data": {
            "image/png": "[encoded data removed]",
            "text/plain": [
              "<Figure size 432x288 with 4 Axes>"
            ]
          },
          "metadata": {
            "tags": [],
            "needs_background": "light"
          }
        }
      ]
    },
    {
      "cell_type": "code",
      "metadata": {
        "id": "R60vmWCXqlNL",
        "colab_type": "code",
        "colab": {
          "base_uri": "https://localhost:8080/",
          "height": 35
        },
        "outputId": "ef908f03-7f7c-4664-812b-e22c94b385db"
      },
      "source": [
        "y_train[0], y_train[4], y_train[8], y_train[12]"
      ],
      "execution_count": null,
      "outputs": [
        {
          "output_type": "execute_result",
          "data": {
            "text/plain": [
              "(array([19]), array([1]), array([23]), array([82]))"
            ]
          },
          "metadata": {
            "tags": []
          },
          "execution_count": 7
        }
      ]
    },
    {
      "cell_type": "code",
      "metadata": {
        "id": "GdPUl8bzqMcc",
        "colab_type": "code",
        "colab": {
          "base_uri": "https://localhost:8080/",
          "height": 215
        },
        "outputId": "5da46e29-f0ba-4005-94b0-1e8b0175ac9b"
      },
      "source": [
        "dir(cifar100)"
      ],
      "execution_count": null,
      "outputs": [
        {
          "output_type": "execute_result",
          "data": {
            "text/plain": [
              "['__builtins__',\n",
              " '__cached__',\n",
              " '__doc__',\n",
              " '__file__',\n",
              " '__loader__',\n",
              " '__name__',\n",
              " '__package__',\n",
              " '__path__',\n",
              " '__spec__',\n",
              " '_sys',\n",
              " 'load_data']"
            ]
          },
          "metadata": {
            "tags": []
          },
          "execution_count": 8
        }
      ]
    },
    {
      "cell_type": "code",
      "metadata": {
        "id": "Gy3lbsl5qMfz",
        "colab_type": "code",
        "colab": {}
      },
      "source": [
        "## https://corochann.com/cifar-10-cifar-100-dataset-introduction-1258.html\n",
        "CIFAR100_LABELS_LIST = [\n",
        "    'apple', 'aquarium_fish', 'baby', 'bear', 'beaver', 'bed', 'bee', 'beetle', \n",
        "    'bicycle', 'bottle', 'bowl', 'boy', 'bridge', 'bus', 'butterfly', 'camel', \n",
        "    'can', 'castle', 'caterpillar', 'cattle', 'chair', 'chimpanzee', 'clock', \n",
        "    'cloud', 'cockroach', 'couch', 'crab', 'crocodile', 'cup', 'dinosaur', \n",
        "    'dolphin', 'elephant', 'flatfish', 'forest', 'fox', 'girl', 'hamster', \n",
        "    'house', 'kangaroo', 'keyboard', 'lamp', 'lawn_mower', 'leopard', 'lion',\n",
        "    'lizard', 'lobster', 'man', 'maple_tree', 'motorcycle', 'mountain', 'mouse',\n",
        "    'mushroom', 'oak_tree', 'orange', 'orchid', 'otter', 'palm_tree', 'pear',\n",
        "    'pickup_truck', 'pine_tree', 'plain', 'plate', 'poppy', 'porcupine',\n",
        "    'possum', 'rabbit', 'raccoon', 'ray', 'road', 'rocket', 'rose',\n",
        "    'sea', 'seal', 'shark', 'shrew', 'skunk', 'skyscraper', 'snail', 'snake',\n",
        "    'spider', 'squirrel', 'streetcar', 'sunflower', 'sweet_pepper', 'table',\n",
        "    'tank', 'telephone', 'television', 'tiger', 'tractor', 'train', 'trout',\n",
        "    'tulip', 'turtle', 'wardrobe', 'whale', 'willow_tree', 'wolf', 'woman',\n",
        "    'worm'\n",
        "]"
      ],
      "execution_count": null,
      "outputs": []
    },
    {
      "cell_type": "code",
      "metadata": {
        "id": "wioTZgWRqMjM",
        "colab_type": "code",
        "colab": {
          "base_uri": "https://localhost:8080/",
          "height": 35
        },
        "outputId": "8bf1993b-6970-4491-ccc0-554f7c0803c4"
      },
      "source": [
        "CIFAR100_LABELS_LIST[y_train[0][0]],CIFAR100_LABELS_LIST[y_train[4][0]], \\\n",
        "    CIFAR100_LABELS_LIST[y_train[8][0]],CIFAR100_LABELS_LIST[y_train[12][0]]"
      ],
      "execution_count": null,
      "outputs": [
        {
          "output_type": "execute_result",
          "data": {
            "text/plain": [
              "('cattle', 'aquarium_fish', 'cloud', 'sunflower')"
            ]
          },
          "metadata": {
            "tags": []
          },
          "execution_count": 10
        }
      ]
    },
    {
      "cell_type": "markdown",
      "metadata": {
        "id": "DZfgzukRrLR8",
        "colab_type": "text"
      },
      "source": [
        "#### 자료형 변환 및 스케일링\n",
        "- X: 실수형으로 정규화\n",
        "- Y: 1-hot encoding\n"
      ]
    },
    {
      "cell_type": "code",
      "metadata": {
        "id": "Z9VWP8EHqMnJ",
        "colab_type": "code",
        "colab": {
          "base_uri": "https://localhost:8080/",
          "height": 35
        },
        "outputId": "b20e0bf8-ed06-4275-c163-d98eddf3af36"
      },
      "source": [
        "X_train = X_train.astype('float32')/255.0\n",
        "X_test = X_test.astype('float32')/255.0\n",
        "\n",
        "print(X_train.shape, X_train.dtype)"
      ],
      "execution_count": null,
      "outputs": [
        {
          "output_type": "stream",
          "text": [
            "(50000, 32, 32, 3) float32\n"
          ],
          "name": "stdout"
        }
      ]
    },
    {
      "cell_type": "code",
      "metadata": {
        "id": "Ed7BSTxyq1al",
        "colab_type": "code",
        "colab": {
          "base_uri": "https://localhost:8080/",
          "height": 269
        },
        "outputId": "a6d4c1f5-b7c7-4b39-9f69-25643aec09ec"
      },
      "source": [
        "Y_train = tf.keras.utils.to_categorical(y_train, 100)\n",
        "Y_test = tf.keras.utils.to_categorical(y_test, 100)\n",
        "Y_train[:2]"
      ],
      "execution_count": null,
      "outputs": [
        {
          "output_type": "execute_result",
          "data": {
            "text/plain": [
              "array([[0., 0., 0., 0., 0., 0., 0., 0., 0., 0., 0., 0., 0., 0., 0., 0.,\n",
              "        0., 0., 0., 1., 0., 0., 0., 0., 0., 0., 0., 0., 0., 0., 0., 0.,\n",
              "        0., 0., 0., 0., 0., 0., 0., 0., 0., 0., 0., 0., 0., 0., 0., 0.,\n",
              "        0., 0., 0., 0., 0., 0., 0., 0., 0., 0., 0., 0., 0., 0., 0., 0.,\n",
              "        0., 0., 0., 0., 0., 0., 0., 0., 0., 0., 0., 0., 0., 0., 0., 0.,\n",
              "        0., 0., 0., 0., 0., 0., 0., 0., 0., 0., 0., 0., 0., 0., 0., 0.,\n",
              "        0., 0., 0., 0.],\n",
              "       [0., 0., 0., 0., 0., 0., 0., 0., 0., 0., 0., 0., 0., 0., 0., 0.,\n",
              "        0., 0., 0., 0., 0., 0., 0., 0., 0., 0., 0., 0., 0., 1., 0., 0.,\n",
              "        0., 0., 0., 0., 0., 0., 0., 0., 0., 0., 0., 0., 0., 0., 0., 0.,\n",
              "        0., 0., 0., 0., 0., 0., 0., 0., 0., 0., 0., 0., 0., 0., 0., 0.,\n",
              "        0., 0., 0., 0., 0., 0., 0., 0., 0., 0., 0., 0., 0., 0., 0., 0.,\n",
              "        0., 0., 0., 0., 0., 0., 0., 0., 0., 0., 0., 0., 0., 0., 0., 0.,\n",
              "        0., 0., 0., 0.]], dtype=float32)"
            ]
          },
          "metadata": {
            "tags": []
          },
          "execution_count": 12
        }
      ]
    },
    {
      "cell_type": "markdown",
      "metadata": {
        "id": "_IcNZZbYrT5k",
        "colab_type": "text"
      },
      "source": [
        "### 자료의 일부만 사용하여 모델 테스트 하기"
      ]
    },
    {
      "cell_type": "code",
      "metadata": {
        "id": "cf54LuGOq1e-",
        "colab_type": "code",
        "colab": {}
      },
      "source": [
        "from sklearn.model_selection import train_test_split"
      ],
      "execution_count": null,
      "outputs": []
    },
    {
      "cell_type": "markdown",
      "metadata": {
        "id": "lGuLLY9ZrcSb",
        "colab_type": "text"
      },
      "source": [
        "#### 모형 구현"
      ]
    },
    {
      "cell_type": "code",
      "metadata": {
        "id": "pBlkh-lYq1jW",
        "colab_type": "code",
        "colab": {}
      },
      "source": [
        "from tensorflow.keras.models import Sequential\n",
        "from tensorflow.keras.layers import Conv2D, MaxPooling2D, Flatten, Dense, Dropout\n",
        "from tensorflow.keras.layers import Activation\n",
        "import numpy as np\n",
        "\n",
        "np.random.seed(0)"
      ],
      "execution_count": null,
      "outputs": []
    },
    {
      "cell_type": "code",
      "metadata": {
        "id": "WOUfY0MJrZS4",
        "colab_type": "code",
        "colab": {
          "base_uri": "https://localhost:8080/",
          "height": 845
        },
        "outputId": "39c50c7d-6681-4734-8766-d8cb0e29eb46"
      },
      "source": [
        "model = Sequential()\n",
        "\n",
        "# Input Layer\n",
        "model.add(Conv2D(32, (3,3), padding='same', input_shape = X_train.shape[1:]))\n",
        "model.add(Activation('relu'))\n",
        "# MAXPOOL Layer 1\n",
        "model.add(MaxPooling2D(pool_size=(2, 2)))\n",
        "model.add(Activation('relu'))\n",
        "# CONV2D Layer 2\n",
        "model.add(Conv2D(64, (3,3), padding='same'))\n",
        "model.add(Activation('relu'))\n",
        "# MAXPOOL Layer 2\n",
        "model.add(MaxPooling2D(pool_size=(2, 2)))\n",
        "model.add(Activation('relu'))\n",
        "# Add a dropout of 10%\n",
        "model.add(Dropout(0.1))\n",
        "# CONV2D Layer 3\n",
        "model.add(Conv2D(128, (3,3), padding='same'))\n",
        "model.add(Activation('relu'))\n",
        "# MAXPOOL Layer 3\n",
        "model.add(MaxPooling2D(pool_size=(2,2)))\n",
        "# Add dropout of 25%\n",
        "model.add(Dropout(0.25))\n",
        "# flatten \n",
        "model.add(Flatten())\n",
        "# Fully Connected Layer 1\n",
        "model.add(Dense(512))\n",
        "model.add(Activation('relu'))\n",
        "# Adding a dropout of 50%\n",
        "model.add(Dropout(0.5))\n",
        "# Output Layer (Fully Connected Layer 2) \n",
        "model.add(Dense(100))\n",
        "model.add(Activation('softmax'))\n",
        "          \n",
        "model.summary()"
      ],
      "execution_count": null,
      "outputs": [
        {
          "output_type": "stream",
          "text": [
            "Model: \"sequential\"\n",
            "_________________________________________________________________\n",
            "Layer (type)                 Output Shape              Param #   \n",
            "=================================================================\n",
            "conv2d (Conv2D)              (None, 32, 32, 32)        896       \n",
            "_________________________________________________________________\n",
            "activation (Activation)      (None, 32, 32, 32)        0         \n",
            "_________________________________________________________________\n",
            "max_pooling2d (MaxPooling2D) (None, 16, 16, 32)        0         \n",
            "_________________________________________________________________\n",
            "activation_1 (Activation)    (None, 16, 16, 32)        0         \n",
            "_________________________________________________________________\n",
            "conv2d_1 (Conv2D)            (None, 16, 16, 64)        18496     \n",
            "_________________________________________________________________\n",
            "activation_2 (Activation)    (None, 16, 16, 64)        0         \n",
            "_________________________________________________________________\n",
            "max_pooling2d_1 (MaxPooling2 (None, 8, 8, 64)          0         \n",
            "_________________________________________________________________\n",
            "activation_3 (Activation)    (None, 8, 8, 64)          0         \n",
            "_________________________________________________________________\n",
            "dropout (Dropout)            (None, 8, 8, 64)          0         \n",
            "_________________________________________________________________\n",
            "conv2d_2 (Conv2D)            (None, 8, 8, 128)         73856     \n",
            "_________________________________________________________________\n",
            "activation_4 (Activation)    (None, 8, 8, 128)         0         \n",
            "_________________________________________________________________\n",
            "max_pooling2d_2 (MaxPooling2 (None, 4, 4, 128)         0         \n",
            "_________________________________________________________________\n",
            "dropout_1 (Dropout)          (None, 4, 4, 128)         0         \n",
            "_________________________________________________________________\n",
            "flatten (Flatten)            (None, 2048)              0         \n",
            "_________________________________________________________________\n",
            "dense (Dense)                (None, 512)               1049088   \n",
            "_________________________________________________________________\n",
            "activation_5 (Activation)    (None, 512)               0         \n",
            "_________________________________________________________________\n",
            "dropout_2 (Dropout)          (None, 512)               0         \n",
            "_________________________________________________________________\n",
            "dense_1 (Dense)              (None, 100)               51300     \n",
            "_________________________________________________________________\n",
            "activation_6 (Activation)    (None, 100)               0         \n",
            "=================================================================\n",
            "Total params: 1,193,636\n",
            "Trainable params: 1,193,636\n",
            "Non-trainable params: 0\n",
            "_________________________________________________________________\n"
          ],
          "name": "stdout"
        }
      ]
    },
    {
      "cell_type": "code",
      "metadata": {
        "id": "FQXnS1ESrZWC",
        "colab_type": "code",
        "colab": {}
      },
      "source": [
        "opt = tf.keras.optimizers.Adam(lr=0.0001)\n",
        "model.compile(loss='categorical_crossentropy', optimizer=opt, metrics=['accuracy'])"
      ],
      "execution_count": null,
      "outputs": []
    },
    {
      "cell_type": "code",
      "metadata": {
        "id": "A6cUrjIErZZF",
        "colab_type": "code",
        "colab": {
          "base_uri": "https://localhost:8080/",
          "height": 35
        },
        "outputId": "0817ddf2-9bff-482b-e46d-a30197922b45"
      },
      "source": [
        "Y_train.shape, Y_test.shape"
      ],
      "execution_count": null,
      "outputs": [
        {
          "output_type": "execute_result",
          "data": {
            "text/plain": [
              "((50000, 100), (10000, 100))"
            ]
          },
          "metadata": {
            "tags": []
          },
          "execution_count": 17
        }
      ]
    },
    {
      "cell_type": "code",
      "metadata": {
        "id": "CZxYPwicrZcT",
        "colab_type": "code",
        "colab": {
          "base_uri": "https://localhost:8080/",
          "height": 1000
        },
        "outputId": "fc0f4416-83c1-4807-f402-cf406cdd251c"
      },
      "source": [
        "history = model.fit(X_train, Y_train, epochs=100, batch_size=50,\n",
        "                    validation_data=(X_test, Y_test), verbose=1)"
      ],
      "execution_count": null,
      "outputs": [
        {
          "output_type": "stream",
          "text": [
            "Epoch 1/100\n",
            "1000/1000 [==============================] - 13s 13ms/step - loss: 4.3340 - accuracy: 0.0444 - val_loss: 3.9381 - val_accuracy: 0.1118\n",
            "Epoch 2/100\n",
            "1000/1000 [==============================] - 12s 12ms/step - loss: 3.8644 - accuracy: 0.1130 - val_loss: 3.5950 - val_accuracy: 0.1744\n",
            "Epoch 3/100\n",
            "1000/1000 [==============================] - 12s 12ms/step - loss: 3.6270 - accuracy: 0.1468 - val_loss: 3.3921 - val_accuracy: 0.2135\n",
            "Epoch 4/100\n",
            "1000/1000 [==============================] - 12s 12ms/step - loss: 3.4743 - accuracy: 0.1752 - val_loss: 3.2659 - val_accuracy: 0.2339\n",
            "Epoch 5/100\n",
            "1000/1000 [==============================] - 12s 12ms/step - loss: 3.3492 - accuracy: 0.1966 - val_loss: 3.1276 - val_accuracy: 0.2562\n",
            "Epoch 6/100\n",
            "1000/1000 [==============================] - 12s 12ms/step - loss: 3.2338 - accuracy: 0.2185 - val_loss: 3.0440 - val_accuracy: 0.2708\n",
            "Epoch 7/100\n",
            "1000/1000 [==============================] - 12s 12ms/step - loss: 3.1365 - accuracy: 0.2357 - val_loss: 2.9762 - val_accuracy: 0.2795\n",
            "Epoch 8/100\n",
            "1000/1000 [==============================] - 12s 12ms/step - loss: 3.0559 - accuracy: 0.2519 - val_loss: 2.8671 - val_accuracy: 0.3036\n",
            "Epoch 9/100\n",
            "1000/1000 [==============================] - 12s 12ms/step - loss: 2.9753 - accuracy: 0.2658 - val_loss: 2.8121 - val_accuracy: 0.3164\n",
            "Epoch 10/100\n",
            "1000/1000 [==============================] - 12s 12ms/step - loss: 2.9068 - accuracy: 0.2798 - val_loss: 2.7391 - val_accuracy: 0.3248\n",
            "Epoch 11/100\n",
            "1000/1000 [==============================] - 12s 12ms/step - loss: 2.8496 - accuracy: 0.2905 - val_loss: 2.6940 - val_accuracy: 0.3317\n",
            "Epoch 12/100\n",
            "1000/1000 [==============================] - 12s 12ms/step - loss: 2.7930 - accuracy: 0.3011 - val_loss: 2.6588 - val_accuracy: 0.3394\n",
            "Epoch 13/100\n",
            "1000/1000 [==============================] - 12s 12ms/step - loss: 2.7408 - accuracy: 0.3155 - val_loss: 2.6008 - val_accuracy: 0.3526\n",
            "Epoch 14/100\n",
            "1000/1000 [==============================] - 12s 12ms/step - loss: 2.6927 - accuracy: 0.3213 - val_loss: 2.5693 - val_accuracy: 0.3550\n",
            "Epoch 15/100\n",
            "1000/1000 [==============================] - 12s 12ms/step - loss: 2.6516 - accuracy: 0.3291 - val_loss: 2.5364 - val_accuracy: 0.3623\n",
            "Epoch 16/100\n",
            "1000/1000 [==============================] - 12s 12ms/step - loss: 2.6032 - accuracy: 0.3408 - val_loss: 2.4980 - val_accuracy: 0.3701\n",
            "Epoch 17/100\n",
            "1000/1000 [==============================] - 12s 12ms/step - loss: 2.5680 - accuracy: 0.3480 - val_loss: 2.4772 - val_accuracy: 0.3774\n",
            "Epoch 18/100\n",
            "1000/1000 [==============================] - 12s 12ms/step - loss: 2.5259 - accuracy: 0.3577 - val_loss: 2.4614 - val_accuracy: 0.3804\n",
            "Epoch 19/100\n",
            "1000/1000 [==============================] - 12s 12ms/step - loss: 2.4883 - accuracy: 0.3623 - val_loss: 2.4142 - val_accuracy: 0.3923\n",
            "Epoch 20/100\n",
            "1000/1000 [==============================] - 12s 12ms/step - loss: 2.4548 - accuracy: 0.3731 - val_loss: 2.3922 - val_accuracy: 0.3981\n",
            "Epoch 21/100\n",
            "1000/1000 [==============================] - 12s 12ms/step - loss: 2.4140 - accuracy: 0.3806 - val_loss: 2.3725 - val_accuracy: 0.3984\n",
            "Epoch 22/100\n",
            "1000/1000 [==============================] - 12s 12ms/step - loss: 2.3910 - accuracy: 0.3843 - val_loss: 2.3426 - val_accuracy: 0.4063\n",
            "Epoch 23/100\n",
            "1000/1000 [==============================] - 12s 12ms/step - loss: 2.3559 - accuracy: 0.3918 - val_loss: 2.3221 - val_accuracy: 0.4095\n",
            "Epoch 24/100\n",
            "1000/1000 [==============================] - 12s 12ms/step - loss: 2.3221 - accuracy: 0.3975 - val_loss: 2.3076 - val_accuracy: 0.4106\n",
            "Epoch 25/100\n",
            "1000/1000 [==============================] - 12s 12ms/step - loss: 2.2940 - accuracy: 0.4033 - val_loss: 2.2857 - val_accuracy: 0.4163\n",
            "Epoch 26/100\n",
            "1000/1000 [==============================] - 12s 12ms/step - loss: 2.2618 - accuracy: 0.4100 - val_loss: 2.2620 - val_accuracy: 0.4255\n",
            "Epoch 27/100\n",
            "1000/1000 [==============================] - 12s 12ms/step - loss: 2.2411 - accuracy: 0.4150 - val_loss: 2.2529 - val_accuracy: 0.4241\n",
            "Epoch 28/100\n",
            "1000/1000 [==============================] - 12s 12ms/step - loss: 2.2023 - accuracy: 0.4231 - val_loss: 2.2584 - val_accuracy: 0.4233\n",
            "Epoch 29/100\n",
            "1000/1000 [==============================] - 12s 12ms/step - loss: 2.1787 - accuracy: 0.4271 - val_loss: 2.2566 - val_accuracy: 0.4233\n",
            "Epoch 30/100\n",
            "1000/1000 [==============================] - 12s 12ms/step - loss: 2.1519 - accuracy: 0.4353 - val_loss: 2.1999 - val_accuracy: 0.4345\n",
            "Epoch 31/100\n",
            "1000/1000 [==============================] - 12s 12ms/step - loss: 2.1239 - accuracy: 0.4385 - val_loss: 2.1786 - val_accuracy: 0.4340\n",
            "Epoch 32/100\n",
            "1000/1000 [==============================] - 12s 12ms/step - loss: 2.0994 - accuracy: 0.4424 - val_loss: 2.1655 - val_accuracy: 0.4394\n",
            "Epoch 33/100\n",
            "1000/1000 [==============================] - 12s 12ms/step - loss: 2.0788 - accuracy: 0.4505 - val_loss: 2.1615 - val_accuracy: 0.4398\n",
            "Epoch 34/100\n",
            "1000/1000 [==============================] - 12s 12ms/step - loss: 2.0535 - accuracy: 0.4540 - val_loss: 2.1432 - val_accuracy: 0.4469\n",
            "Epoch 35/100\n",
            "1000/1000 [==============================] - 12s 12ms/step - loss: 2.0268 - accuracy: 0.4590 - val_loss: 2.1324 - val_accuracy: 0.4514\n",
            "Epoch 36/100\n",
            "1000/1000 [==============================] - 12s 12ms/step - loss: 1.9982 - accuracy: 0.4670 - val_loss: 2.1140 - val_accuracy: 0.4507\n",
            "Epoch 37/100\n",
            "1000/1000 [==============================] - 12s 12ms/step - loss: 1.9803 - accuracy: 0.4723 - val_loss: 2.1185 - val_accuracy: 0.4503\n",
            "Epoch 38/100\n",
            "1000/1000 [==============================] - 12s 12ms/step - loss: 1.9628 - accuracy: 0.4753 - val_loss: 2.0966 - val_accuracy: 0.4555\n",
            "Epoch 39/100\n",
            "1000/1000 [==============================] - 12s 12ms/step - loss: 1.9410 - accuracy: 0.4782 - val_loss: 2.1141 - val_accuracy: 0.4543\n",
            "Epoch 40/100\n",
            "1000/1000 [==============================] - 12s 12ms/step - loss: 1.9192 - accuracy: 0.4857 - val_loss: 2.0901 - val_accuracy: 0.4591\n",
            "Epoch 41/100\n",
            "1000/1000 [==============================] - 12s 12ms/step - loss: 1.8963 - accuracy: 0.4898 - val_loss: 2.0859 - val_accuracy: 0.4631\n",
            "Epoch 42/100\n",
            "1000/1000 [==============================] - 12s 12ms/step - loss: 1.8713 - accuracy: 0.4936 - val_loss: 2.0886 - val_accuracy: 0.4596\n",
            "Epoch 43/100\n",
            "1000/1000 [==============================] - 12s 12ms/step - loss: 1.8583 - accuracy: 0.4959 - val_loss: 2.0597 - val_accuracy: 0.4660\n",
            "Epoch 44/100\n",
            "1000/1000 [==============================] - 12s 12ms/step - loss: 1.8292 - accuracy: 0.5028 - val_loss: 2.0487 - val_accuracy: 0.4675\n",
            "Epoch 45/100\n",
            "1000/1000 [==============================] - 12s 12ms/step - loss: 1.8098 - accuracy: 0.5070 - val_loss: 2.0433 - val_accuracy: 0.4695\n",
            "Epoch 46/100\n",
            "1000/1000 [==============================] - 12s 12ms/step - loss: 1.7932 - accuracy: 0.5112 - val_loss: 2.0358 - val_accuracy: 0.4680\n",
            "Epoch 47/100\n",
            "1000/1000 [==============================] - 12s 12ms/step - loss: 1.7788 - accuracy: 0.5133 - val_loss: 2.0349 - val_accuracy: 0.4725\n",
            "Epoch 48/100\n",
            "1000/1000 [==============================] - 12s 12ms/step - loss: 1.7545 - accuracy: 0.5172 - val_loss: 2.0255 - val_accuracy: 0.4776\n",
            "Epoch 49/100\n",
            "1000/1000 [==============================] - 12s 12ms/step - loss: 1.7371 - accuracy: 0.5219 - val_loss: 2.0171 - val_accuracy: 0.4729\n",
            "Epoch 50/100\n",
            "1000/1000 [==============================] - 12s 12ms/step - loss: 1.7151 - accuracy: 0.5276 - val_loss: 2.0291 - val_accuracy: 0.4700\n",
            "Epoch 51/100\n",
            "1000/1000 [==============================] - 12s 12ms/step - loss: 1.7003 - accuracy: 0.5297 - val_loss: 2.0070 - val_accuracy: 0.4750\n",
            "Epoch 52/100\n",
            "1000/1000 [==============================] - 12s 12ms/step - loss: 1.6789 - accuracy: 0.5363 - val_loss: 2.0184 - val_accuracy: 0.4728\n",
            "Epoch 53/100\n",
            "1000/1000 [==============================] - 12s 12ms/step - loss: 1.6721 - accuracy: 0.5389 - val_loss: 2.0046 - val_accuracy: 0.4746\n",
            "Epoch 54/100\n",
            "1000/1000 [==============================] - 12s 12ms/step - loss: 1.6543 - accuracy: 0.5419 - val_loss: 2.0024 - val_accuracy: 0.4772\n",
            "Epoch 55/100\n",
            "1000/1000 [==============================] - 12s 12ms/step - loss: 1.6338 - accuracy: 0.5482 - val_loss: 1.9899 - val_accuracy: 0.4809\n",
            "Epoch 56/100\n",
            "1000/1000 [==============================] - 12s 12ms/step - loss: 1.6170 - accuracy: 0.5501 - val_loss: 2.0099 - val_accuracy: 0.4798\n",
            "Epoch 57/100\n",
            "1000/1000 [==============================] - 12s 12ms/step - loss: 1.6086 - accuracy: 0.5499 - val_loss: 1.9901 - val_accuracy: 0.4803\n",
            "Epoch 58/100\n",
            "1000/1000 [==============================] - 11s 11ms/step - loss: 1.5857 - accuracy: 0.5585 - val_loss: 1.9873 - val_accuracy: 0.4808\n",
            "Epoch 59/100\n",
            "1000/1000 [==============================] - 12s 12ms/step - loss: 1.5661 - accuracy: 0.5605 - val_loss: 1.9971 - val_accuracy: 0.4838\n",
            "Epoch 60/100\n",
            "1000/1000 [==============================] - 12s 12ms/step - loss: 1.5544 - accuracy: 0.5644 - val_loss: 1.9975 - val_accuracy: 0.4801\n",
            "Epoch 61/100\n",
            "1000/1000 [==============================] - 11s 11ms/step - loss: 1.5500 - accuracy: 0.5659 - val_loss: 1.9867 - val_accuracy: 0.4838\n",
            "Epoch 62/100\n",
            "1000/1000 [==============================] - 11s 11ms/step - loss: 1.5270 - accuracy: 0.5682 - val_loss: 1.9803 - val_accuracy: 0.4864\n",
            "Epoch 63/100\n",
            "1000/1000 [==============================] - 11s 11ms/step - loss: 1.5121 - accuracy: 0.5745 - val_loss: 1.9744 - val_accuracy: 0.4870\n",
            "Epoch 64/100\n",
            "1000/1000 [==============================] - 11s 11ms/step - loss: 1.5004 - accuracy: 0.5786 - val_loss: 1.9944 - val_accuracy: 0.4831\n",
            "Epoch 65/100\n",
            "1000/1000 [==============================] - 11s 11ms/step - loss: 1.4801 - accuracy: 0.5801 - val_loss: 1.9845 - val_accuracy: 0.4864\n",
            "Epoch 66/100\n",
            "1000/1000 [==============================] - 11s 11ms/step - loss: 1.4769 - accuracy: 0.5799 - val_loss: 1.9865 - val_accuracy: 0.4896\n",
            "Epoch 67/100\n",
            "1000/1000 [==============================] - 11s 11ms/step - loss: 1.4571 - accuracy: 0.5859 - val_loss: 1.9806 - val_accuracy: 0.4868\n",
            "Epoch 68/100\n",
            "1000/1000 [==============================] - 11s 11ms/step - loss: 1.4455 - accuracy: 0.5888 - val_loss: 1.9797 - val_accuracy: 0.4903\n",
            "Epoch 69/100\n",
            "1000/1000 [==============================] - 11s 11ms/step - loss: 1.4311 - accuracy: 0.5909 - val_loss: 1.9699 - val_accuracy: 0.4879\n",
            "Epoch 70/100\n",
            "1000/1000 [==============================] - 12s 12ms/step - loss: 1.4170 - accuracy: 0.5952 - val_loss: 1.9760 - val_accuracy: 0.4887\n",
            "Epoch 71/100\n",
            "1000/1000 [==============================] - 11s 11ms/step - loss: 1.3992 - accuracy: 0.6031 - val_loss: 1.9711 - val_accuracy: 0.4927\n",
            "Epoch 72/100\n",
            "1000/1000 [==============================] - 11s 11ms/step - loss: 1.3909 - accuracy: 0.6016 - val_loss: 1.9717 - val_accuracy: 0.4919\n",
            "Epoch 73/100\n",
            "1000/1000 [==============================] - 12s 12ms/step - loss: 1.3784 - accuracy: 0.6027 - val_loss: 1.9847 - val_accuracy: 0.4862\n",
            "Epoch 74/100\n",
            "1000/1000 [==============================] - 11s 11ms/step - loss: 1.3746 - accuracy: 0.6036 - val_loss: 1.9621 - val_accuracy: 0.4913\n",
            "Epoch 75/100\n",
            "1000/1000 [==============================] - 11s 11ms/step - loss: 1.3571 - accuracy: 0.6086 - val_loss: 1.9676 - val_accuracy: 0.4924\n",
            "Epoch 76/100\n",
            "1000/1000 [==============================] - 11s 11ms/step - loss: 1.3456 - accuracy: 0.6122 - val_loss: 1.9731 - val_accuracy: 0.4915\n",
            "Epoch 77/100\n",
            "1000/1000 [==============================] - 12s 12ms/step - loss: 1.3288 - accuracy: 0.6163 - val_loss: 1.9748 - val_accuracy: 0.4929\n",
            "Epoch 78/100\n",
            "1000/1000 [==============================] - 11s 11ms/step - loss: 1.3234 - accuracy: 0.6175 - val_loss: 1.9832 - val_accuracy: 0.4892\n",
            "Epoch 79/100\n",
            "1000/1000 [==============================] - 11s 11ms/step - loss: 1.3129 - accuracy: 0.6181 - val_loss: 1.9864 - val_accuracy: 0.4906\n",
            "Epoch 80/100\n",
            "1000/1000 [==============================] - 12s 12ms/step - loss: 1.2986 - accuracy: 0.6235 - val_loss: 1.9751 - val_accuracy: 0.4925\n",
            "Epoch 81/100\n",
            "1000/1000 [==============================] - 12s 12ms/step - loss: 1.2928 - accuracy: 0.6231 - val_loss: 1.9777 - val_accuracy: 0.4918\n",
            "Epoch 82/100\n",
            "1000/1000 [==============================] - 11s 11ms/step - loss: 1.2778 - accuracy: 0.6239 - val_loss: 1.9736 - val_accuracy: 0.4923\n",
            "Epoch 83/100\n",
            "1000/1000 [==============================] - 12s 12ms/step - loss: 1.2696 - accuracy: 0.6282 - val_loss: 1.9691 - val_accuracy: 0.4933\n",
            "Epoch 84/100\n",
            "1000/1000 [==============================] - 11s 11ms/step - loss: 1.2538 - accuracy: 0.6303 - val_loss: 1.9769 - val_accuracy: 0.4965\n",
            "Epoch 85/100\n",
            "1000/1000 [==============================] - 11s 11ms/step - loss: 1.2376 - accuracy: 0.6365 - val_loss: 2.0012 - val_accuracy: 0.4927\n",
            "Epoch 86/100\n",
            "1000/1000 [==============================] - 12s 12ms/step - loss: 1.2390 - accuracy: 0.6369 - val_loss: 1.9862 - val_accuracy: 0.4947\n",
            "Epoch 87/100\n",
            "1000/1000 [==============================] - 11s 11ms/step - loss: 1.2257 - accuracy: 0.6395 - val_loss: 1.9877 - val_accuracy: 0.4973\n",
            "Epoch 88/100\n",
            "1000/1000 [==============================] - 11s 11ms/step - loss: 1.2127 - accuracy: 0.6416 - val_loss: 1.9716 - val_accuracy: 0.5012\n",
            "Epoch 89/100\n",
            "1000/1000 [==============================] - 11s 11ms/step - loss: 1.2076 - accuracy: 0.6461 - val_loss: 1.9869 - val_accuracy: 0.4942\n",
            "Epoch 90/100\n",
            "1000/1000 [==============================] - 11s 11ms/step - loss: 1.2024 - accuracy: 0.6463 - val_loss: 1.9709 - val_accuracy: 0.4967\n",
            "Epoch 91/100\n",
            "1000/1000 [==============================] - 11s 11ms/step - loss: 1.1952 - accuracy: 0.6456 - val_loss: 1.9829 - val_accuracy: 0.4969\n",
            "Epoch 92/100\n",
            "1000/1000 [==============================] - 14s 14ms/step - loss: 1.1817 - accuracy: 0.6525 - val_loss: 1.9820 - val_accuracy: 0.4976\n",
            "Epoch 93/100\n",
            "1000/1000 [==============================] - 12s 12ms/step - loss: 1.1720 - accuracy: 0.6533 - val_loss: 1.9938 - val_accuracy: 0.4951\n",
            "Epoch 94/100\n",
            "1000/1000 [==============================] - 12s 12ms/step - loss: 1.1629 - accuracy: 0.6548 - val_loss: 1.9886 - val_accuracy: 0.4947\n",
            "Epoch 95/100\n",
            "1000/1000 [==============================] - 12s 12ms/step - loss: 1.1545 - accuracy: 0.6582 - val_loss: 1.9959 - val_accuracy: 0.4980\n",
            "Epoch 96/100\n",
            "1000/1000 [==============================] - 12s 12ms/step - loss: 1.1472 - accuracy: 0.6601 - val_loss: 1.9953 - val_accuracy: 0.4990\n",
            "Epoch 97/100\n",
            "1000/1000 [==============================] - 12s 12ms/step - loss: 1.1348 - accuracy: 0.6609 - val_loss: 2.0032 - val_accuracy: 0.4922\n",
            "Epoch 98/100\n",
            "1000/1000 [==============================] - 12s 12ms/step - loss: 1.1248 - accuracy: 0.6644 - val_loss: 2.0036 - val_accuracy: 0.4969\n",
            "Epoch 99/100\n",
            "1000/1000 [==============================] - 12s 12ms/step - loss: 1.1254 - accuracy: 0.6638 - val_loss: 1.9972 - val_accuracy: 0.4971\n",
            "Epoch 100/100\n",
            "1000/1000 [==============================] - 12s 12ms/step - loss: 1.1160 - accuracy: 0.6677 - val_loss: 2.0013 - val_accuracy: 0.4999\n"
          ],
          "name": "stdout"
        }
      ]
    },
    {
      "cell_type": "code",
      "metadata": {
        "id": "YViiiPAHrZh5",
        "colab_type": "code",
        "colab": {
          "base_uri": "https://localhost:8080/"
        },
        "outputId": "2dafcbfd-626c-4003-a563-35c2e6d1cac7"
      },
      "source": [
        "# 테스트 정확도 출력 \n",
        "print(\"\\n Test Accuracy: %.4f\" % (model.evaluate(X_test, Y_test)[1]))"
      ],
      "execution_count": null,
      "outputs": [
        {
          "output_type": "stream",
          "text": [
            "313/313 [==============================] - 2s 5ms/step - loss: 2.0013 - accuracy: 0.4999\n",
            "\n",
            " Test Accuracy: 0.4999\n"
          ],
          "name": "stdout"
        }
      ]
    },
    {
      "cell_type": "code",
      "metadata": {
        "id": "Kwe-308Br37L",
        "colab_type": "code",
        "colab": {}
      },
      "source": [
        "# 테스트셋\n",
        "y_vloss = history.history['val_loss']\n",
        "y_vacc = history.history['val_accuracy']\n",
        "# 학습셋\n",
        "y_loss = history.history['loss']\n",
        "y_acc = history.history['accuracy']"
      ],
      "execution_count": null,
      "outputs": []
    },
    {
      "cell_type": "code",
      "metadata": {
        "id": "AQ06FpNWr4AN",
        "colab_type": "code",
        "colab": {
          "base_uri": "https://localhost:8080/"
        },
        "outputId": "126dfd58-dfe0-4423-886f-c4adc1ddf873"
      },
      "source": [
        "\n",
        "# 그래프로 표현\n",
        "x_len = np.arange(1, len(y_loss)+1)\n",
        "fig, ax0 = plt.subplots(figsize=(10,8))\n",
        "ax1 = ax0.twinx()\n",
        "ax0.plot(x_len, y_loss, c=\"blue\", label='Trainset_loss')\n",
        "ax0.plot(x_len, y_vloss, c=\"red\", label='Testset_loss')\n",
        "ax0.set_ylabel('loss')\n",
        "ax1.plot(x_len, y_acc, c=\"darkgreen\", label='Trainset_acc')\n",
        "ax1.plot(x_len, y_vacc, c=\"magenta\", label='Testset_acc')\n",
        "ax1.set_ylabel('accuracy')\n",
        "ax0.set_xlabel('epoch')\n",
        "ax0.legend(loc='upper center')\n",
        "ax1.legend(loc='lower center')\n",
        "plt.show()"
      ],
      "execution_count": null,
      "outputs": [
        {
          "output_type": "display_data",
          "data": {
            "image/png": "[encoded data removed]",
            "text/plain": [
              "<Figure size 720x576 with 2 Axes>"
            ]
          },
          "metadata": {
            "tags": [],
            "needs_background": "light"
          }
        }
      ]
    },
    {
      "cell_type": "code",
      "metadata": {
        "id": "EG27tnmkr4G6",
        "colab_type": "code",
        "colab": {}
      },
      "source": [
        ""
      ],
      "execution_count": null,
      "outputs": []
    },
    {
      "cell_type": "code",
      "metadata": {
        "id": "n_w2aIgCq1nj",
        "colab_type": "code",
        "colab": {}
      },
      "source": [
        ""
      ],
      "execution_count": null,
      "outputs": []
    }
  ]
}